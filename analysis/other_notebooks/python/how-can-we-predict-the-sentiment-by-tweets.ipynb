{
 "cells": [
  {
   "cell_type": "markdown",
   "metadata": {
    "_cell_guid": "4965335f-6add-0d24-9cfe-9c1c43baccb6"
   },
   "source": []
  },
  {
   "cell_type": "markdown",
   "metadata": {
    "_cell_guid": "de6fb1ba-48ea-b52e-f442-2a03d6528321"
   },
   "source": []
  },
  {
   "cell_type": "markdown",
   "metadata": {
    "_cell_guid": "ef703872-6286-1048-4d89-8e33639333a3"
   },
   "source": []
  },
  {
   "cell_type": "code",
   "execution_count": null,
   "metadata": {
    "_cell_guid": "ceee4bc5-5a14-c005-2c2a-7c879c3fa0ec"
   },
   "outputs": [],
   "source": [
    "import sklearn\n",
    "import matplotlib.pyplot as plt\n",
    "%matplotlib inline\n",
    "import pandas\n",
    "from sklearn.cross_validation import train_test_split\n",
    "import numpy"
   ]
  },
  {
   "cell_type": "markdown",
   "metadata": {
    "_cell_guid": "abc98c32-50a3-a025-b9be-1976ef971a47"
   },
   "source": []
  },
  {
   "cell_type": "code",
   "execution_count": null,
   "metadata": {
    "_cell_guid": "17a6b9e2-26da-b492-2107-73611e20d9c4"
   },
   "outputs": [],
   "source": [
    "Tweet= pandas.read_csv(\"../input/Tweets.csv\")\n",
    "Tweet.head()"
   ]
  },
  {
   "cell_type": "markdown",
   "metadata": {
    "_cell_guid": "e2fe7b78-e4ca-65cb-4329-cc740dfe2bbe"
   },
   "source": []
  },
  {
   "cell_type": "markdown",
   "metadata": {
    "_cell_guid": "5ddb0446-c27b-ef25-009d-b649512ee9a5"
   },
   "source": []
  },
  {
   "cell_type": "code",
   "execution_count": null,
   "metadata": {
    "_cell_guid": "405b2e80-e9a1-4a93-f0ba-9cbe3bea13b1"
   },
   "outputs": [],
   "source": [
    "(len(Tweet)-Tweet.count())/len(Tweet)"
   ]
  },
  {
   "cell_type": "markdown",
   "metadata": {
    "_cell_guid": "560c26db-49af-6026-577d-ed2ea6380e40"
   },
   "source": []
  },
  {
   "cell_type": "code",
   "execution_count": null,
   "metadata": {
    "_cell_guid": "02459725-4a93-1add-631a-ed62688ea95d"
   },
   "outputs": [],
   "source": [
    "del Tweet['tweet_coord']\n",
    "del Tweet['airline_sentiment_gold']\n",
    "del Tweet['negativereason_gold']"
   ]
  },
  {
   "cell_type": "markdown",
   "metadata": {
    "_cell_guid": "9cf030db-8bf7-c3d0-7041-ac086c97c1e9"
   },
   "source": []
  },
  {
   "cell_type": "code",
   "execution_count": null,
   "metadata": {
    "_cell_guid": "7ca65411-7851-0c5c-8aac-82993bef6f86"
   },
   "outputs": [],
   "source": [
    "Mood_count=Tweet['airline_sentiment'].value_counts()"
   ]
  },
  {
   "cell_type": "code",
   "execution_count": null,
   "metadata": {
    "_cell_guid": "9027fd16-e6b1-4cae-a157-6e305bdd32c4"
   },
   "outputs": [],
   "source": [
    "Index = [1,2,3]\n",
    "plt.bar(Index,Mood_count)\n",
    "plt.xticks(Index,['negative','neutral','positive'],rotation=45)\n",
    "plt.ylabel('Mood Count')\n",
    "plt.xlabel('Mood')\n",
    "plt.title('Count of Moods')"
   ]
  },
  {
   "cell_type": "markdown",
   "metadata": {
    "_cell_guid": "d2864ec5-edb1-3d20-ab29-78ab6f0158f5"
   },
   "source": []
  },
  {
   "cell_type": "markdown",
   "metadata": {
    "_cell_guid": "2f91ec01-f644-4d43-8b85-df84a47a56a9"
   },
   "source": []
  },
  {
   "cell_type": "markdown",
   "metadata": {
    "_cell_guid": "d6868001-e420-ff30-a4c4-277415e36b7c"
   },
   "source": []
  },
  {
   "cell_type": "code",
   "execution_count": null,
   "metadata": {
    "_cell_guid": "27360b97-9c15-22c5-17d6-4d46c4e2b3ee"
   },
   "outputs": [],
   "source": [
    "Tweet['airline'].value_counts()"
   ]
  },
  {
   "cell_type": "code",
   "execution_count": null,
   "metadata": {
    "_cell_guid": "7eab4da0-8763-db73-bf1c-54ac2373edf3"
   },
   "outputs": [],
   "source": [
    "def plot_sub_sentiment(Airline):\n",
    "    df=Tweet[Tweet['airline']==Airline]\n",
    "    count=df['airline_sentiment'].value_counts()\n",
    "    Index = [1,2,3]\n",
    "    plt.bar(Index,count)\n",
    "    plt.xticks(Index,['negative','neutral','positive'])\n",
    "    plt.ylabel('Mood Count')\n",
    "    plt.xlabel('Mood')\n",
    "    plt.title('Count of Moods of '+Airline)\n",
    "plt.figure(1,figsize=(12, 12))\n",
    "plt.subplot(231)\n",
    "plot_sub_sentiment('US Airways')\n",
    "plt.subplot(232)\n",
    "plot_sub_sentiment('United')\n",
    "plt.subplot(233)\n",
    "plot_sub_sentiment('American')\n",
    "plt.subplot(234)\n",
    "plot_sub_sentiment('Southwest')\n",
    "plt.subplot(235)\n",
    "plot_sub_sentiment('Delta')\n",
    "plt.subplot(236)\n",
    "plot_sub_sentiment('Virgin America')"
   ]
  },
  {
   "cell_type": "markdown",
   "metadata": {
    "_cell_guid": "f0de5c44-2d3d-6bea-636f-cddfdd8f2694"
   },
   "source": [
    "From the above plots one can find that the distribution of moods for the first three airlines are always skewed toward negative moods. On contrary, the moods are distributed more balanced with the later three airline companies. "
   ]
  },
  {
   "cell_type": "markdown",
   "metadata": {
    "_cell_guid": "9f4ed434-ba33-50ba-b26a-e54d6d07808e"
   },
   "source": []
  },
  {
   "cell_type": "markdown",
   "metadata": {
    "_cell_guid": "8e5b8918-d2e7-b09d-8dc4-f0f577ca212e"
   },
   "source": []
  },
  {
   "cell_type": "code",
   "execution_count": null,
   "metadata": {
    "_cell_guid": "28ab20c2-22bf-9db3-bac4-e8cad23bcf64"
   },
   "outputs": [],
   "source": [
    "NR_Count=dict(Tweet['negativereason'].value_counts(sort=False))"
   ]
  },
  {
   "cell_type": "code",
   "execution_count": null,
   "metadata": {
    "_cell_guid": "58d7fe11-eda3-73df-b3de-ef7987132d63"
   },
   "outputs": [],
   "source": [
    "def NR_Count(Airline):\n",
    "    if Airline=='All':\n",
    "        df=Tweet\n",
    "    else:\n",
    "        df=Tweet[Tweet['airline']==Airline]\n",
    "    count=dict(df['negativereason'].value_counts())\n",
    "    Unique_reason=list(Tweet['negativereason'].unique())\n",
    "    Unique_reason=[x for x in Unique_reason if str(x) != 'nan']\n",
    "    Reason_frame=pandas.DataFrame({'Reasons':Unique_reason})\n",
    "    Reason_frame['count']=Reason_frame['Reasons'].apply(lambda x: count[x])\n",
    "    return Reason_frame"
   ]
  },
  {
   "cell_type": "code",
   "execution_count": null,
   "metadata": {
    "_cell_guid": "6f20a24e-e578-1d3a-6699-4bbe8444c8d6"
   },
   "outputs": [],
   "source": [
    "def plot_reason(Airline):\n",
    "    df=NR_Count(Airline)\n",
    "    count=df['count']\n",
    "    Index = range(1,(len(df)+1))\n",
    "    plt.bar(Index,count)\n",
    "    plt.xticks(Index,df['Reasons'],rotation=90)\n",
    "    plt.ylabel('Count')\n",
    "    plt.xlabel('Reason')\n",
    "    plt.title('Count of Reasons for '+Airline)"
   ]
  },
  {
   "cell_type": "code",
   "execution_count": null,
   "metadata": {
    "_cell_guid": "3fddb66a-ebc1-3afe-d8e6-91ca795809c6"
   },
   "outputs": [],
   "source": [
    "plot_reason('All')"
   ]
  },
  {
   "cell_type": "markdown",
   "metadata": {
    "_cell_guid": "b2ec3a70-f1de-ba98-2c62-202cd14df8e1"
   },
   "source": []
  },
  {
   "cell_type": "code",
   "execution_count": null,
   "metadata": {
    "_cell_guid": "faf04584-3849-b606-e309-873744a5d414"
   },
   "outputs": [],
   "source": [
    "plot_reason('US Airways')"
   ]
  },
  {
   "cell_type": "code",
   "execution_count": null,
   "metadata": {
    "_cell_guid": "7b103cb5-6e2a-278b-eb22-4e568bacc7ef"
   },
   "outputs": [],
   "source": [
    "plot_reason('United')"
   ]
  },
  {
   "cell_type": "code",
   "execution_count": null,
   "metadata": {
    "_cell_guid": "ab81cfdf-f3ab-0749-26bd-19f69ececbf4"
   },
   "outputs": [],
   "source": [
    "plot_reason('American')"
   ]
  },
  {
   "cell_type": "code",
   "execution_count": null,
   "metadata": {
    "_cell_guid": "4277938b-96a3-b64a-c0ff-bbf24ff05cc5"
   },
   "outputs": [],
   "source": [
    "plot_reason('Southwest')"
   ]
  },
  {
   "cell_type": "code",
   "execution_count": null,
   "metadata": {
    "_cell_guid": "ab73a5bc-5325-eda3-ead6-7e6c03bf51cb"
   },
   "outputs": [],
   "source": [
    "plot_reason('Delta')"
   ]
  },
  {
   "cell_type": "code",
   "execution_count": null,
   "metadata": {
    "_cell_guid": "fc3c2b90-ba62-8b93-4440-5fc9c95e09f2"
   },
   "outputs": [],
   "source": [
    "plot_reason('Virgin America')"
   ]
  },
  {
   "cell_type": "markdown",
   "metadata": {
    "_cell_guid": "33c1a843-e55c-af3b-d694-da554de91817"
   },
   "source": []
  },
  {
   "cell_type": "markdown",
   "metadata": {
    "_cell_guid": "23b2f0f0-d3ee-014c-d939-51c1b7ca291f"
   },
   "source": [
    "### D: Word Cloud for the negative Tweets"
   ]
  },
  {
   "cell_type": "code",
   "execution_count": null,
   "metadata": {
    "_cell_guid": "64563b0f-0ca4-7527-c393-3f4ef456fd70"
   },
   "outputs": [],
   "source": [
    "from wordcloud import WordCloud,STOPWORDS"
   ]
  },
  {
   "cell_type": "code",
   "execution_count": null,
   "metadata": {
    "_cell_guid": "94dd7465-b077-8afc-67ab-00a96f9f2e2e"
   },
   "outputs": [],
   "source": [
    "df=Tweet[Tweet['airline_sentiment']=='negative']\n",
    "words = ' '.join(df['text'])\n",
    "cleaned_word = \" \".join([word for word in words.split()\n",
    "                            if 'http' not in word\n",
    "                                and not word.startswith('@')\n",
    "                                and word != 'RT'\n",
    "                            ])"
   ]
  },
  {
   "cell_type": "code",
   "execution_count": null,
   "metadata": {
    "_cell_guid": "5f91e201-b4ed-90af-ac74-c538a8bac9a1"
   },
   "outputs": [],
   "source": [
    "wordcloud = WordCloud(stopwords=STOPWORDS,\n",
    "                      background_color='black',\n",
    "                      width=3000,\n",
    "                      height=2500\n",
    "                     ).generate(cleaned_word)"
   ]
  },
  {
   "cell_type": "code",
   "execution_count": null,
   "metadata": {
    "_cell_guid": "5c8fb0b3-583b-4007-1dae-b07f46107f66"
   },
   "outputs": [],
   "source": [
    "plt.figure(1,figsize=(12, 12))\n",
    "plt.imshow(wordcloud)\n",
    "plt.axis('off')\n",
    "plt.show()"
   ]
  },
  {
   "cell_type": "markdown",
   "metadata": {
    "_cell_guid": "0e785887-7181-bb00-9a61-d90a16771d8e"
   },
   "source": [
    "**We can find that the Tweets with negative moods are frequently involved some words like cancelled, flight ,customer or hour. People might guess that customer tends to complain when they are waiting for the delayed flights.**"
   ]
  },
  {
   "cell_type": "markdown",
   "metadata": {
    "_cell_guid": "c619b27d-0354-5143-b4d0-a6c87fd7b07b"
   },
   "source": [
    "### E: Preprocess data for classification"
   ]
  },
  {
   "cell_type": "markdown",
   "metadata": {
    "_cell_guid": "10e800f5-21eb-0a9d-2217-e4e28b9d67ed"
   },
   "source": [
    "**Our data exploration ends up at here. The next step will be preprocess the data in order to make the learning process more smooth.**"
   ]
  },
  {
   "cell_type": "markdown",
   "metadata": {
    "_cell_guid": "c8fdd5cb-f4c7-d807-fd69-3edd232c8480"
   },
   "source": []
  },
  {
   "cell_type": "code",
   "execution_count": null,
   "metadata": {
    "_cell_guid": "eef2d024-251b-11f5-cc5e-8d3d54e08731"
   },
   "outputs": [],
   "source": [
    "import re\n",
    "import nltk\n",
    "from nltk.corpus import stopwords"
   ]
  },
  {
   "cell_type": "code",
   "execution_count": null,
   "metadata": {
    "_cell_guid": "3651ce57-abe0-3bd7-c83f-2ea76d611f7e"
   },
   "outputs": [],
   "source": [
    "def tweet_to_words(raw_tweet):\n",
    "    letters_only = re.sub(\"[^a-zA-Z]\", \" \",raw_tweet) \n",
    "    words = letters_only.lower().split()                             \n",
    "    stops = set(stopwords.words(\"english\"))                  \n",
    "    meaningful_words = [w for w in words if not w in stops] \n",
    "    return( \" \".join( meaningful_words )) "
   ]
  },
  {
   "cell_type": "code",
   "execution_count": null,
   "metadata": {
    "_cell_guid": "46b0defc-b33e-7af0-e373-b433d574d695"
   },
   "outputs": [],
   "source": [
    "def clean_tweet_length(raw_tweet):\n",
    "    letters_only = re.sub(\"[^a-zA-Z]\", \" \",raw_tweet) \n",
    "    words = letters_only.lower().split()                             \n",
    "    stops = set(stopwords.words(\"english\"))                  \n",
    "    meaningful_words = [w for w in words if not w in stops] \n",
    "    return(len(meaningful_words)) "
   ]
  },
  {
   "cell_type": "markdown",
   "metadata": {
    "_cell_guid": "7efe1456-8808-112b-4c7b-20d2259186cf"
   },
   "source": []
  },
  {
   "cell_type": "code",
   "execution_count": null,
   "metadata": {
    "_cell_guid": "964886df-3b7b-4426-48bc-5e3995c72042"
   },
   "outputs": [],
   "source": [
    "Tweet['sentiment']=Tweet['airline_sentiment'].apply(lambda x: 0 if x=='negative' else 1)"
   ]
  },
  {
   "cell_type": "code",
   "execution_count": null,
   "metadata": {
    "_cell_guid": "d3321d7e-3c68-a64b-8312-aebab5e8ba00"
   },
   "outputs": [],
   "source": [
    "Tweet['clean_tweet']=Tweet['text'].apply(lambda x: tweet_to_words(x))\n",
    "Tweet['Tweet_length']=Tweet['text'].apply(lambda x: clean_tweet_length(x))\n",
    "train,test = train_test_split(Tweet,test_size=0.2,random_state=42)"
   ]
  },
  {
   "cell_type": "markdown",
   "metadata": {
    "_cell_guid": "71718f91-ec73-de31-7dbe-f07444d435f1"
   },
   "source": []
  },
  {
   "cell_type": "code",
   "execution_count": null,
   "metadata": {
    "_cell_guid": "4813043f-73fb-3474-f7f6-18b45f3543fd"
   },
   "outputs": [],
   "source": [
    "train_clean_tweet=[]\n",
    "for tweet in train['clean_tweet']:\n",
    "    train_clean_tweet.append(tweet)\n",
    "test_clean_tweet=[]\n",
    "for tweet in test['clean_tweet']:\n",
    "    test_clean_tweet.append(tweet)"
   ]
  },
  {
   "cell_type": "code",
   "execution_count": null,
   "metadata": {
    "_cell_guid": "3e2be258-a9a9-9415-3d51-58f32413247e"
   },
   "outputs": [],
   "source": [
    "from sklearn.feature_extraction.text import CountVectorizer\n",
    "v = CountVectorizer(analyzer = \"word\")\n",
    "train_features= v.fit_transform(train_clean_tweet)\n",
    "test_features=v.transform(test_clean_tweet)"
   ]
  },
  {
   "cell_type": "markdown",
   "metadata": {
    "_cell_guid": "62ddffd8-c7f9-d376-035a-7188802d3148"
   },
   "source": []
  },
  {
   "cell_type": "markdown",
   "metadata": {
    "_cell_guid": "edae5d36-90d9-182b-7e1f-b9162a1d30b8"
   },
   "source": []
  },
  {
   "cell_type": "code",
   "execution_count": null,
   "metadata": {
    "_cell_guid": "5752b349-7f4f-aa5e-9a07-c577e475d3a4"
   },
   "outputs": [],
   "source": [
    "from sklearn.linear_model import LogisticRegression\n",
    "from sklearn.neighbors import KNeighborsClassifier\n",
    "from sklearn.svm import SVC, LinearSVC, NuSVC\n",
    "from sklearn.tree import DecisionTreeClassifier\n",
    "from sklearn.ensemble import RandomForestClassifier, AdaBoostClassifier, GradientBoostingClassifier\n",
    "from sklearn.naive_bayes import GaussianNB\n",
    "from sklearn.discriminant_analysis import LinearDiscriminantAnalysis\n",
    "from sklearn.discriminant_analysis import QuadraticDiscriminantAnalysis\n",
    "from sklearn.metrics import accuracy_score"
   ]
  },
  {
   "cell_type": "code",
   "execution_count": null,
   "metadata": {
    "_cell_guid": "9c491112-34ec-e23f-8301-bf5491ef7416"
   },
   "outputs": [],
   "source": [
    "Classifiers = [\n",
    "    LogisticRegression(C=0.000000001,solver='liblinear',max_iter=200),\n",
    "    KNeighborsClassifier(3),\n",
    "    SVC(kernel=\"rbf\", C=0.025, probability=True),\n",
    "    DecisionTreeClassifier(),\n",
    "    RandomForestClassifier(n_estimators=200),\n",
    "    AdaBoostClassifier(),\n",
    "    GaussianNB()]"
   ]
  },
  {
   "cell_type": "code",
   "execution_count": null,
   "metadata": {
    "_cell_guid": "3537c590-cc9c-48bf-8a4e-7f0406a564ff"
   },
   "outputs": [],
   "source": [
    "dense_features=train_features.toarray()\n",
    "dense_test= test_features.toarray()\n",
    "Accuracy=[]\n",
    "Model=[]\n",
    "for classifier in Classifiers:\n",
    "    try:\n",
    "        fit = classifier.fit(train_features,train['sentiment'])\n",
    "        pred = fit.predict(test_features)\n",
    "    except Exception:\n",
    "        fit = classifier.fit(dense_features,train['sentiment'])\n",
    "        pred = fit.predict(dense_test)\n",
    "    accuracy = accuracy_score(pred,test['sentiment'])\n",
    "    Accuracy.append(accuracy)\n",
    "    Model.append(classifier.__class__.__name__)\n",
    "    print('Accuracy of '+classifier.__class__.__name__+'is '+str(accuracy))    "
   ]
  },
  {
   "cell_type": "markdown",
   "metadata": {
    "_cell_guid": "131c9c37-3fab-dc5b-3615-ff06ccadafec"
   },
   "source": [
    "## Compare the model performances"
   ]
  },
  {
   "cell_type": "code",
   "execution_count": null,
   "metadata": {
    "_cell_guid": "59679456-286a-cfb3-a8d0-1895cd4af069"
   },
   "outputs": [],
   "source": [
    "Index = [1,2,3,4,5,6,7]\n",
    "plt.bar(Index,Accuracy)\n",
    "plt.xticks(Index, Model,rotation=45)\n",
    "plt.ylabel('Accuracy')\n",
    "plt.xlabel('Model')\n",
    "plt.title('Accuracies of Models')"
   ]
  },
  {
   "cell_type": "markdown",
   "metadata": {
    "_cell_guid": "2dfa7c03-4d88-4674-148f-2dcc6ad89b3e"
   },
   "source": []
  }
 ],
 "metadata": {
  "_change_revision": 0,
  "_is_fork": false,
  "kernelspec": {
   "display_name": "Python 3",
   "language": "python",
   "name": "python3"
  },
  "language_info": {
   "codemirror_mode": {
    "name": "ipython",
    "version": 3
   },
   "file_extension": ".py",
   "mimetype": "text/x-python",
   "name": "python",
   "nbconvert_exporter": "python",
   "pygments_lexer": "ipython3",
   "version": "3.6.4"
  }
 },
 "nbformat": 4,
 "nbformat_minor": 2
}
