{
 "cells": [
  {
   "cell_type": "code",
   "execution_count": 166,
   "metadata": {},
   "outputs": [],
   "source": [
    "SAVE_MODEL_TO_DISK = 0\n",
    "LOAD_MODEL = 1\n",
    "\n",
    "# GENERAL LIBS\n",
    "import numpy as np \n",
    "import pandas as pd\n",
    "import re\n",
    "import nltk\n",
    "from nltk.corpus import stopwords\n",
    "%matplotlib inline\n",
    "\n",
    "# SKLEARN\n",
    "from sklearn.model_selection import train_test_split\n",
    "from sklearn.pipeline import Pipeline\n",
    "from sklearn.feature_extraction.text import CountVectorizer\n",
    "from sklearn.base import BaseEstimator, TransformerMixin\n",
    "from sklearn.metrics import roc_curve, roc_auc_score\n",
    "from sklearn.preprocessing import StandardScaler, OneHotEncoder\n",
    "from sklearn.pipeline import FeatureUnion\n",
    "from sklearn.svm import SVC\n",
    "from sklearn.linear_model import LogisticRegression\n",
    "from sklearn.model_selection import cross_validate\n",
    "from sklearn.linear_model import LogisticRegression\n",
    "from sklearn.svm import SVC\n",
    "from sklearn.neighbors import KNeighborsClassifier\n",
    "from sklearn.tree import DecisionTreeClassifier\n",
    "from sklearn.ensemble import RandomForestClassifier, GradientBoostingClassifier\n",
    "from sklearn.neural_network import MLPClassifier\n",
    "from sklearn.naive_bayes import MultinomialNB\n",
    "\n",
    "#NLTK\n",
    "from nltk.stem.snowball import SnowballStemmer\n",
    "\n",
    "# GENSIM\n",
    "from gensim.sklearn_api import W2VTransformer\n",
    "from gensim.models import Word2Vec\n",
    "\n",
    "import warnings\n",
    "warnings.filterwarnings('ignore')"
   ]
  },
  {
   "cell_type": "code",
   "execution_count": 2,
   "metadata": {},
   "outputs": [],
   "source": [
    "tweetsDF = pd.read_csv(\"preprocessed2.csv\")\n",
    "\n",
    "tweetsDF.drop(labels=[\"Unnamed: 0\",\n",
    "                      \"airline\", \n",
    "                      \"negativereason\", \n",
    "                      \"airline_sentiment_confidence\", \n",
    "                      \"negativereason\",\n",
    "                      \"negativereason_confidence\",\n",
    "                      \"airline_sentiment\",\n",
    "                      \"text\"], axis=1, inplace=True)"
   ]
  },
  {
   "cell_type": "code",
   "execution_count": 3,
   "metadata": {},
   "outputs": [],
   "source": [
    "def stemming(tokens):\n",
    "    '''\n",
    "    Apply stemming to each token\n",
    "    \n",
    "    @return:\n",
    "        Return a list of stemmed tokens\n",
    "    '''\n",
    "    \n",
    "    stemmer = SnowballStemmer(\"english\")  \n",
    "    stemmed = [stemmer.stem(w) for w in tokens.split()]\n",
    "    return stemmed"
   ]
  },
  {
   "cell_type": "code",
   "execution_count": 4,
   "metadata": {},
   "outputs": [],
   "source": [
    "tweetsDF[\"tweet2words\"] = tweetsDF[\"tweet2words\"].values.astype(\"U\")\n",
    "tweetsDF[\"correctedText\"] = tweetsDF[\"correctedText\"].values.astype(\"U\")\n",
    "tweetsDF.drop(labels=['tweet2words'], axis=1, inplace=True)\n",
    "\n",
    "# tweetsDF[\"correctedText\"] = tweetsDF[\"correctedText\"].apply(stemming)"
   ]
  },
  {
   "cell_type": "code",
   "execution_count": 5,
   "metadata": {},
   "outputs": [
    {
     "data": {
      "text/html": [
       "<div>\n",
       "<style scoped>\n",
       "    .dataframe tbody tr th:only-of-type {\n",
       "        vertical-align: middle;\n",
       "    }\n",
       "\n",
       "    .dataframe tbody tr th {\n",
       "        vertical-align: top;\n",
       "    }\n",
       "\n",
       "    .dataframe thead th {\n",
       "        text-align: right;\n",
       "    }\n",
       "</style>\n",
       "<table border=\"1\" class=\"dataframe\">\n",
       "  <thead>\n",
       "    <tr style=\"text-align: right;\">\n",
       "      <th></th>\n",
       "      <th>sentiment</th>\n",
       "      <th>num_capitalized</th>\n",
       "      <th>tweet_length</th>\n",
       "      <th>num_negative_words</th>\n",
       "      <th>num_positive_words</th>\n",
       "      <th>num_neutral_words</th>\n",
       "      <th>has_capitalized</th>\n",
       "      <th>num_capitalised_positive_words</th>\n",
       "      <th>num_capitalised_negative_words</th>\n",
       "      <th>num_hashtags</th>\n",
       "      <th>num_special_character</th>\n",
       "      <th>correctedText</th>\n",
       "    </tr>\n",
       "  </thead>\n",
       "  <tbody>\n",
       "    <tr>\n",
       "      <th>0</th>\n",
       "      <td>1</td>\n",
       "      <td>0</td>\n",
       "      <td>3</td>\n",
       "      <td>0</td>\n",
       "      <td>0</td>\n",
       "      <td>4</td>\n",
       "      <td>1</td>\n",
       "      <td>0</td>\n",
       "      <td>0</td>\n",
       "      <td>0</td>\n",
       "      <td>3</td>\n",
       "      <td>What said</td>\n",
       "    </tr>\n",
       "    <tr>\n",
       "      <th>1</th>\n",
       "      <td>1</td>\n",
       "      <td>0</td>\n",
       "      <td>6</td>\n",
       "      <td>0</td>\n",
       "      <td>0</td>\n",
       "      <td>9</td>\n",
       "      <td>0</td>\n",
       "      <td>0</td>\n",
       "      <td>0</td>\n",
       "      <td>0</td>\n",
       "      <td>4</td>\n",
       "      <td>plus added commercials experience tacky</td>\n",
       "    </tr>\n",
       "  </tbody>\n",
       "</table>\n",
       "</div>"
      ],
      "text/plain": [
       "   sentiment  num_capitalized  tweet_length  num_negative_words  \\\n",
       "0          1                0             3                   0   \n",
       "1          1                0             6                   0   \n",
       "\n",
       "   num_positive_words  num_neutral_words  has_capitalized  \\\n",
       "0                   0                  4                1   \n",
       "1                   0                  9                0   \n",
       "\n",
       "   num_capitalised_positive_words  num_capitalised_negative_words  \\\n",
       "0                               0                               0   \n",
       "1                               0                               0   \n",
       "\n",
       "   num_hashtags  num_special_character  \\\n",
       "0             0                      3   \n",
       "1             0                      4   \n",
       "\n",
       "                              correctedText  \n",
       "0                                 What said  \n",
       "1   plus added commercials experience tacky  "
      ]
     },
     "execution_count": 5,
     "metadata": {},
     "output_type": "execute_result"
    }
   ],
   "source": [
    "tweetsDF.head(2)"
   ]
  },
  {
   "cell_type": "code",
   "execution_count": 6,
   "metadata": {},
   "outputs": [],
   "source": [
    "# # sentences = Sentences(tweetsDF['correctedText'].tolist()) # a memory-friendly iterator\n",
    "# tweetsList = tweetsDF['correctedText']\n",
    "# tweetsList[:5]\n"
   ]
  },
  {
   "cell_type": "code",
   "execution_count": 7,
   "metadata": {},
   "outputs": [],
   "source": [
    "# onlyWords = list()\n",
    "# for w in tweetsList:\n",
    "#     try:\n",
    "#         onlyWords.append(list(w))\n",
    "#     except AttributeError:\n",
    "#         onlyWords.append([\"\"])\n",
    "# onlyWords[:5]"
   ]
  },
  {
   "cell_type": "code",
   "execution_count": 8,
   "metadata": {},
   "outputs": [],
   "source": [
    "# model = W2VTransformer(size=10, min_count=1, seed=1)\n",
    "\n",
    "# try: \n",
    "#     wordvecs = model.fit(onlyWords[:5000]).transform(onlyWords[5000:])\n",
    "# except KeyError:\n",
    "#     pass\n",
    "\n",
    "# wordvecs = model.fit(onlyWords[:-1]).transform(onlyWords[:-1])"
   ]
  },
  {
   "cell_type": "code",
   "execution_count": 9,
   "metadata": {},
   "outputs": [],
   "source": [
    "target = \"sentiment\"\n",
    "features = [c for c in tweetsDF.columns.values if c not in [target]]\n",
    "numeric_features =  [c for c in tweetsDF.columns.values if c not in ['tweet2words', 'correctedText', target]]"
   ]
  },
  {
   "cell_type": "code",
   "execution_count": 10,
   "metadata": {},
   "outputs": [],
   "source": [
    "X_train, X_test, Y_train, Y_test = train_test_split(tweetsDF[features], tweetsDF[target], test_size=0.33, random_state=42)"
   ]
  },
  {
   "cell_type": "code",
   "execution_count": 11,
   "metadata": {},
   "outputs": [
    {
     "data": {
      "text/plain": [
       "' seriously would pay flight seats playing really bad thing flying VA'"
      ]
     },
     "execution_count": 11,
     "metadata": {},
     "output_type": "execute_result"
    }
   ],
   "source": [
    "X_train['correctedText'][5]"
   ]
  },
  {
   "cell_type": "code",
   "execution_count": 12,
   "metadata": {},
   "outputs": [
    {
     "name": "stdout",
     "output_type": "stream",
     "text": [
      "X_train: (9808, 11)\n",
      "X_test: (4832, 11)\n",
      "Y_train: (9808,)\n",
      "Y_test: (4832,)\n"
     ]
    }
   ],
   "source": [
    "print(\"X_train: \" + repr(X_train.shape))\n",
    "print(\"X_test: \" + repr(X_test.shape))\n",
    "print(\"Y_train: \" + repr(Y_train.shape))\n",
    "print(\"Y_test: \" + repr(Y_test.shape))"
   ]
  },
  {
   "cell_type": "markdown",
   "metadata": {},
   "source": [
    "---\n",
    "A criação dos pipelines foi feita utilizando os seguintes kernels no kaggle como auxiliadores;\n",
    "1. [Building A Scikit Learn Classification Pipeline](https://www.kaggle.com/gautham11/building-a-scikit-learn-classification-pipeline)\n",
    "2. [A Deep Dive Into Sklearn Pipelines](https://www.kaggle.com/baghern/a-deep-dive-into-sklearn-pipelines)\n",
    "---"
   ]
  },
  {
   "cell_type": "code",
   "execution_count": 13,
   "metadata": {},
   "outputs": [],
   "source": [
    "class TextSelector(BaseEstimator, TransformerMixin):\n",
    "    \"\"\"\n",
    "    Transformer to select a single column from the data frame to perform additional transformations on\n",
    "    Use on text columns in the data\n",
    "    \"\"\"\n",
    "    def __init__(self, key):\n",
    "        self.key = key\n",
    "\n",
    "    def fit(self, X, y=None):\n",
    "        return self\n",
    "\n",
    "    def splitString(self, s):\n",
    "        try:\n",
    "            return s.split()\n",
    "        except AttributeError:\n",
    "            return \"\"\n",
    "            \n",
    "    \n",
    "    def transform(self, X):\n",
    "        # Apply the word2vec transformation\n",
    "        a = X[self.key]\n",
    "#         return wordvecs.fit_transform(a)\n",
    "        return a\n",
    " "
   ]
  },
  {
   "cell_type": "code",
   "execution_count": 14,
   "metadata": {},
   "outputs": [],
   "source": [
    "# class Word2VecTransformation(BaseEstimator, TransformerMixin):\n",
    "#     def __init__(self, key):\n",
    "#         self.key = key\n",
    "\n",
    "#     def fit(self, X, y=None):\n",
    "#         return self\n",
    "    \n",
    "#     def transform(self, X):\n",
    "#         print(type(X))"
   ]
  },
  {
   "cell_type": "code",
   "execution_count": 15,
   "metadata": {},
   "outputs": [],
   "source": [
    "class Senteces(object):\n",
    "    def __init__(self, dirname):\n",
    "        self.dirname = dirname\n",
    " \n",
    "    def __iter__(self):\n",
    "        for fname in os.listdir(self.dirname):\n",
    "            for line in open(os.path.join(self.dirname, fname)):\n",
    "                yield line.split()"
   ]
  },
  {
   "cell_type": "code",
   "execution_count": 16,
   "metadata": {},
   "outputs": [],
   "source": [
    "class NumberSelector(BaseEstimator, TransformerMixin):\n",
    "    \"\"\"\n",
    "    Transformer to select a single column from the data frame to perform additional transformations on\n",
    "    Use on numeric columns in the data\n",
    "    \"\"\"\n",
    "    def __init__(self, key):\n",
    "        self.key = key\n",
    "\n",
    "    def fit(self, X, y=None):\n",
    "        return self\n",
    "\n",
    "    def transform(self, X):\n",
    "        return X[[self.key]]"
   ]
  },
  {
   "cell_type": "code",
   "execution_count": 17,
   "metadata": {},
   "outputs": [],
   "source": [
    "text = Pipeline([\n",
    "                ('selector', TextSelector(key='correctedText')),\n",
    "                ('countVec', CountVectorizer(analyzer = \"word\"))\n",
    "#                 ('w2v', Word2VecTransformation)\n",
    "#                 ('w2v', Word2Vec())\n",
    "            ])\n",
    "\n",
    "# text.fit_transform(X_train)"
   ]
  },
  {
   "cell_type": "code",
   "execution_count": 18,
   "metadata": {},
   "outputs": [],
   "source": [
    "# negConfidence = Pipeline([\n",
    "#                     ('selector', NumberSelector(key='negativereason_confidence')),\n",
    "#                     ('standard', StandardScaler())\n",
    "#                 ])\n",
    "\n",
    "numCapitalized = Pipeline([\n",
    "                    ('selector', NumberSelector(key='num_capitalized')),\n",
    "                    ('standard', StandardScaler())\n",
    "                ])\n",
    "\n",
    "tweetLength = Pipeline([\n",
    "                    ('selector', NumberSelector(key='tweet_length')),\n",
    "                    ('standard', StandardScaler())\n",
    "                ])\n",
    "\n",
    "numNegativeWords = Pipeline([\n",
    "                    ('selector', NumberSelector(key='num_negative_words')),\n",
    "                    ('standard', StandardScaler())\n",
    "                ])\n",
    "\n",
    "numPositiveWords = Pipeline([\n",
    "                    ('selector', NumberSelector(key='num_positive_words')),\n",
    "                    ('standard', StandardScaler())\n",
    "                ])\n",
    "\n",
    "numNeutralWords = Pipeline([\n",
    "                    ('selector', NumberSelector(key='num_neutral_words')),\n",
    "                    ('standard', StandardScaler())\n",
    "                ])\n",
    "\n",
    "\n",
    "numCapitalizedPositiveWords = Pipeline([\n",
    "                    ('selector', NumberSelector(key='num_capitalised_positive_words')),\n",
    "                    ('standard', StandardScaler())\n",
    "                ])\n",
    "\n",
    "numCapitalizedNegativeWords = Pipeline([\n",
    "                    ('selector', NumberSelector(key='num_capitalised_negative_words')),\n",
    "                    ('standard', StandardScaler())\n",
    "                ])\n",
    "\n",
    "numHashtags = Pipeline([\n",
    "                    ('selector', NumberSelector(key='num_hashtags')),\n",
    "                    ('standard', StandardScaler())\n",
    "                ])\n",
    "\n",
    "\n",
    "numSpecialCharacter = Pipeline([\n",
    "                    ('selector', NumberSelector(key='num_special_character')),\n",
    "                    ('standard', StandardScaler())\n",
    "                ])"
   ]
  },
  {
   "cell_type": "code",
   "execution_count": 19,
   "metadata": {},
   "outputs": [
    {
     "data": {
      "text/plain": [
       "<9808x8269 sparse matrix of type '<class 'numpy.float64'>'\n",
       "\twith 156963 stored elements in Compressed Sparse Row format>"
      ]
     },
     "execution_count": 19,
     "metadata": {},
     "output_type": "execute_result"
    }
   ],
   "source": [
    "feats = FeatureUnion([('text', text),\n",
    "                      ('numCapitalized', numCapitalized),\n",
    "                      (\"tweetLength\", tweetLength),\n",
    "                      (\"numNegativeWords\", numNegativeWords),\n",
    "                      (\"numPositiveWords\", numPositiveWords),\n",
    "                      (\"numNeutralWords\", numNeutralWords),\n",
    "                      (\"numCapitalizedPositiveWords\", numCapitalizedPositiveWords),\n",
    "                      (\"numCapitalizedNegativeWords\", numCapitalizedNegativeWords),\n",
    "                      (\"numHashtags\", numHashtags),\n",
    "                      (\"numSpecialCharacter\", numSpecialCharacter)\n",
    "                     ])\n",
    "\n",
    "feature_processing = Pipeline([('feats', feats)])\n",
    "feature_processing.fit_transform(X_train)"
   ]
  },
  {
   "cell_type": "code",
   "execution_count": 20,
   "metadata": {},
   "outputs": [
    {
     "data": {
      "text/plain": [
       "0.8222268211920529"
      ]
     },
     "execution_count": 20,
     "metadata": {},
     "output_type": "execute_result"
    }
   ],
   "source": [
    "from sklearn.ensemble import RandomForestClassifier\n",
    "\n",
    "pipeline = Pipeline([\n",
    "    ('features',feats),\n",
    "    ('classifier', RandomForestClassifier(n_estimators=200, random_state = 42)),\n",
    "])\n",
    "\n",
    "pipeline.fit(X_train, Y_train)\n",
    "\n",
    "preds = pipeline.predict(X_test)\n",
    "np.mean(preds == Y_test)"
   ]
  },
  {
   "cell_type": "code",
   "execution_count": 48,
   "metadata": {},
   "outputs": [
    {
     "name": "stdout",
     "output_type": "stream",
     "text": [
      "---------------------------------\n",
      "SVC(C=1.0, cache_size=200, class_weight=None, coef0=0.0,\n",
      "  decision_function_shape='ovr', degree=3, gamma='auto_deprecated',\n",
      "  kernel='rbf', max_iter=-1, probability=False, random_state=None,\n",
      "  shrinking=True, tol=0.001, verbose=False)\n",
      "-----------------------------------\n",
      "---------------------------------\n",
      "DecisionTreeClassifier(class_weight=None, criterion='gini', max_depth=None,\n",
      "            max_features=None, max_leaf_nodes=None,\n",
      "            min_impurity_decrease=0.0, min_impurity_split=None,\n",
      "            min_samples_leaf=1, min_samples_split=2,\n",
      "            min_weight_fraction_leaf=0.0, presort=False, random_state=None,\n",
      "            splitter='best')\n",
      "-----------------------------------\n",
      "---------------------------------\n",
      "MLPClassifier(activation='relu', alpha=0.0001, batch_size='auto', beta_1=0.9,\n",
      "       beta_2=0.999, early_stopping=False, epsilon=1e-08,\n",
      "       hidden_layer_sizes=(100,), learning_rate='constant',\n",
      "       learning_rate_init=0.001, max_iter=200, momentum=0.9,\n",
      "       n_iter_no_change=10, nesterovs_momentum=True, power_t=0.5,\n",
      "       random_state=None, shuffle=True, solver='adam', tol=0.0001,\n",
      "       validation_fraction=0.1, verbose=False, warm_start=False)\n",
      "-----------------------------------\n"
     ]
    }
   ],
   "source": [
    "if LOAD_MODEL == 0:\n",
    "    clfs = list()\n",
    "    # clfs.append(LogisticRegression())\n",
    "    clfs.append(SVC())\n",
    "    clfs.append(DecisionTreeClassifier())\n",
    "    # clfs.append(RandomForestClassifier(n_estimators=200, random_state = 42))\n",
    "    # clfs.append(GradientBoostingClassifier())\n",
    "    clfs.append(MLPClassifier())\n",
    "#     clfs.append(MultinomialNB())\n",
    "\n",
    "    scores = list()\n",
    "    pipelineList = list()\n",
    "    scores2 = list()\n",
    "\n",
    "\n",
    "    for c in clfs:\n",
    "        pipeline.set_params(classifier = c)\n",
    "        pipeline.fit(X_train, Y_train)\n",
    "        s = cross_validate(pipeline, X_train, Y_train, \n",
    "                           scoring=[\"accuracy\", \"recall\", \"precision\", \"f1\"], \n",
    "                           cv=3, return_estimator = True)\n",
    "        scores.append(s)\n",
    "        pipelineList.append(pipeline)\n",
    "    #     scores2.append(pipeline.score(X_train, Y_train))\n",
    "        print('---------------------------------')\n",
    "        print(str(c))\n",
    "        print('-----------------------------------')\n",
    "#         for key, values in s.items():\n",
    "#                 print(key,' mean ', values.mean())\n",
    "#                 print(key,' std ', values.std())"
   ]
  },
  {
   "cell_type": "code",
   "execution_count": 118,
   "metadata": {},
   "outputs": [],
   "source": [
    "bestModels = list()\n",
    "for model in scores:\n",
    "    maxAcc = max(model['test_accuracy'])\n",
    "    bestModelX = np.where(model['test_accuracy'] == maxAcc)\n",
    "    bestModels.append(model['estimator'][0])"
   ]
  },
  {
   "cell_type": "code",
   "execution_count": 132,
   "metadata": {},
   "outputs": [
    {
     "name": "stdout",
     "output_type": "stream",
     "text": [
      "SVC\n",
      "DecisionTreeClassifier\n",
      "MLPClassifier\n"
     ]
    }
   ],
   "source": [
    "for i in range(len(bestModels)):\n",
    "    name = bestModels[i].get_params('classifier')\n",
    "    print(str(name['classifier']).split('(')[0])"
   ]
  },
  {
   "cell_type": "code",
   "execution_count": 133,
   "metadata": {},
   "outputs": [],
   "source": [
    "# svm = scores[0]\n",
    "# maxAcc = max(svm['test_accuracy'])\n",
    "# clf = svm['estimator'][np.where(model['test_accuracy'] == maxAcc)]"
   ]
  },
  {
   "cell_type": "code",
   "execution_count": 170,
   "metadata": {},
   "outputs": [],
   "source": [
    "import pickle\n",
    "\n",
    "from sklearn.externals import joblib\n",
    "\n",
    "if SAVE_MODEL_TO_DISK == 1:\n",
    "#     for i in range(len(pipelineList)):\n",
    "#         joblib.dump(pipelineList[i], \"model[\" +str(i)+ \"].joblib\") \n",
    "    for i in range(len(bestModels)):\n",
    "        model = bestModels[i].get_params('classifier')\n",
    "        file = str(model['classifier']).split('(')[0]\n",
    "        joblib.dump(bestModels[i], file + \".joblib\") \n",
    "elif LOAD_MODEL == 1:\n",
    "    bestModels = list()\n",
    "    bestModels.append(joblib.load('DecisionTreeClassifier.joblib'))\n"
   ]
  },
  {
   "cell_type": "code",
   "execution_count": null,
   "metadata": {},
   "outputs": [],
   "source": []
  },
  {
   "cell_type": "code",
   "execution_count": 172,
   "metadata": {},
   "outputs": [],
   "source": [
    "from os import listdir\n",
    "from os.path import isfile, join\n",
    "\n",
    "tweetsPath = '03_processed/'\n",
    "onlyfiles = [f for f in listdir(tweetsPath) if isfile(join(tweetsPath, f))]\n",
    "model = bestModels[0]\n",
    "\n",
    "for file in onlyfiles:\n",
    "    newTweets = pd.read_csv(tweetsPath + file)\n",
    "    newTweets.drop(labels=['text', 'tweet2words'], axis = 1, inplace=True)\n",
    "    newTweets['correctedText'] = newTweets[\"correctedText\"].values.astype(\"U\")\n",
    "    newTweets['sentiment'] = model.predict(newTweets)\n",
    "    newTweets.to_csv('04_output/dec_tree/'+ file.split('.')[0] + '_prediction.csv')"
   ]
  },
  {
   "cell_type": "code",
   "execution_count": 151,
   "metadata": {},
   "outputs": [],
   "source": [
    "from sklearn.metrics import confusion_matrix\n",
    "\n",
    "# bestModel = clf[0]['estimator'][0]\n",
    "allMeasures = dict()\n",
    "for i in range(len(bestModels)):\n",
    "    model = bestModels[i]\n",
    "    tn, fp, fn, tp = confusion_matrix(model.predict(X_test), Y_test).ravel()\n",
    "\n",
    "    measures = dict()\n",
    "    measures[\"acc\"] = (tp + tn)/(tn + fp + fn + tp) * 100\n",
    "    prec = tp/(tp + fp) * 100\n",
    "    recall = tp/(tp + fn) * 100\n",
    "    measures[\"prec\"] = prec\n",
    "    measures[\"recall_sens\"] = recall\n",
    "    measures[\"f1_score\"] = (2 * prec * recall/(prec + recall))\n",
    "    measures['miss_rate'] = (fp + fn) / float(tp + tn + fp + fn) * 100\n",
    "    measures['spec'] = tn/float(tn + fp) * 100\n",
    "    measures['fp_rate'] = fp/float(tn + fp) * 100\n",
    "    allMeasures[i] = measures"
   ]
  },
  {
   "cell_type": "code",
   "execution_count": 156,
   "metadata": {},
   "outputs": [
    {
     "data": {
      "text/html": [
       "<div>\n",
       "<style scoped>\n",
       "    .dataframe tbody tr th:only-of-type {\n",
       "        vertical-align: middle;\n",
       "    }\n",
       "\n",
       "    .dataframe tbody tr th {\n",
       "        vertical-align: top;\n",
       "    }\n",
       "\n",
       "    .dataframe thead th {\n",
       "        text-align: right;\n",
       "    }\n",
       "</style>\n",
       "<table border=\"1\" class=\"dataframe\">\n",
       "  <thead>\n",
       "    <tr style=\"text-align: right;\">\n",
       "      <th></th>\n",
       "      <th>acc</th>\n",
       "      <th>prec</th>\n",
       "      <th>recall_sens</th>\n",
       "      <th>f1_score</th>\n",
       "      <th>miss_rate</th>\n",
       "      <th>spec</th>\n",
       "      <th>fp_rate</th>\n",
       "    </tr>\n",
       "  </thead>\n",
       "  <tbody>\n",
       "    <tr>\n",
       "      <th>SVC</th>\n",
       "      <td>68.067053</td>\n",
       "      <td>12.936463</td>\n",
       "      <td>91.129032</td>\n",
       "      <td>22.656642</td>\n",
       "      <td>31.932947</td>\n",
       "      <td>66.819372</td>\n",
       "      <td>33.180628</td>\n",
       "    </tr>\n",
       "    <tr>\n",
       "      <th>DecisionTreeClassifier</th>\n",
       "      <td>73.903146</td>\n",
       "      <td>66.742988</td>\n",
       "      <td>63.163597</td>\n",
       "      <td>64.903980</td>\n",
       "      <td>26.096854</td>\n",
       "      <td>80.542532</td>\n",
       "      <td>19.457468</td>\n",
       "    </tr>\n",
       "    <tr>\n",
       "      <th>MLPClassifier</th>\n",
       "      <td>77.607616</td>\n",
       "      <td>68.231254</td>\n",
       "      <td>69.342641</td>\n",
       "      <td>68.782458</td>\n",
       "      <td>22.392384</td>\n",
       "      <td>82.171539</td>\n",
       "      <td>17.828461</td>\n",
       "    </tr>\n",
       "  </tbody>\n",
       "</table>\n",
       "</div>"
      ],
      "text/plain": [
       "                              acc       prec  recall_sens   f1_score  \\\n",
       "SVC                     68.067053  12.936463    91.129032  22.656642   \n",
       "DecisionTreeClassifier  73.903146  66.742988    63.163597  64.903980   \n",
       "MLPClassifier           77.607616  68.231254    69.342641  68.782458   \n",
       "\n",
       "                        miss_rate       spec    fp_rate  \n",
       "SVC                     31.932947  66.819372  33.180628  \n",
       "DecisionTreeClassifier  26.096854  80.542532  19.457468  \n",
       "MLPClassifier           22.392384  82.171539  17.828461  "
      ]
     },
     "execution_count": 156,
     "metadata": {},
     "output_type": "execute_result"
    }
   ],
   "source": [
    "# allMeasures\n",
    "performance = pd.DataFrame.from_dict(data=allMeasures, orient='index')\n",
    "performance.set_axis(labels=['SVC', 'DecisionTreeClassifier', 'MLPClassifier'], inplace=True)\n",
    "performance"
   ]
  },
  {
   "cell_type": "code",
   "execution_count": null,
   "metadata": {},
   "outputs": [],
   "source": []
  }
 ],
 "metadata": {
  "kernelspec": {
   "display_name": "Python 3",
   "language": "python",
   "name": "python3"
  },
  "language_info": {
   "codemirror_mode": {
    "name": "ipython",
    "version": 3
   },
   "file_extension": ".py",
   "mimetype": "text/x-python",
   "name": "python",
   "nbconvert_exporter": "python",
   "pygments_lexer": "ipython3",
   "version": "3.6.4"
  }
 },
 "nbformat": 4,
 "nbformat_minor": 2
}
