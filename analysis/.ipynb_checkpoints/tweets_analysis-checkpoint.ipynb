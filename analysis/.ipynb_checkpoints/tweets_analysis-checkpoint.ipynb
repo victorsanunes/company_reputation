{
 "cells": [
  {
   "cell_type": "markdown",
   "metadata": {},
   "source": [
    "## Análise de sentimentos sobre linhas aéreas (Parte 1/4)\n",
    "\n",
    "Este notebook faz parte de um conjunto de notebooks com o objetivo de realizar a tarefa de análise de sentimentos em tweets sobre linhas aéreas americanas. \n",
    "\n",
    "Neste primeiro notebook, faremos uma análise exploratória dos tweets utilizados para treinamento do modelo. A base utilizada se encontra [aqui](https://www.kaggle.com/crowdflower/twitter-airline-sentiment). "
   ]
  },
  {
   "cell_type": "code",
   "execution_count": 1,
   "metadata": {
    "slideshow": {
     "slide_type": "skip"
    }
   },
   "outputs": [],
   "source": [
    "import sklearn\n",
    "import matplotlib.pyplot as plt\n",
    "import seaborn as sns\n",
    "import pandas as pd\n",
    "from nltk.stem.snowball import SnowballStemmer\n",
    "\n",
    "import numpy\n",
    "\n",
    "%matplotlib inline\n",
    "from IPython.core.interactiveshell import InteractiveShell\n",
    "InteractiveShell.ast_node_interactivity = \"all\"\n",
    "plt.style.use('ggplot')"
   ]
  },
  {
   "cell_type": "markdown",
   "metadata": {},
   "source": [
    "## Importação dos arquivos\n",
    "\n",
    "Importaremos o arquivo contendo os tweets e mais duas lista de palavras consideradas como positivas ou negativas (entenda por pejorativas)"
   ]
  },
  {
   "cell_type": "code",
   "execution_count": 2,
   "metadata": {
    "slideshow": {
     "slide_type": "skip"
    }
   },
   "outputs": [],
   "source": [
    "tweetsDF = pd.read_csv(\"Tweets.csv\")\n",
    "\n",
    "with open(\"lexicons/positive-words.txt\") as file:\n",
    "    positiveList = set(file.read().splitlines())\n",
    "    \n",
    "with open(\"lexicons/negative-words.txt\") as file:\n",
    "    negativeList = set(file.read().splitlines())"
   ]
  },
  {
   "cell_type": "code",
   "execution_count": 3,
   "metadata": {
    "slideshow": {
     "slide_type": "slide"
    }
   },
   "outputs": [
    {
     "data": {
      "text/html": [
       "<div>\n",
       "<style scoped>\n",
       "    .dataframe tbody tr th:only-of-type {\n",
       "        vertical-align: middle;\n",
       "    }\n",
       "\n",
       "    .dataframe tbody tr th {\n",
       "        vertical-align: top;\n",
       "    }\n",
       "\n",
       "    .dataframe thead th {\n",
       "        text-align: right;\n",
       "    }\n",
       "</style>\n",
       "<table border=\"1\" class=\"dataframe\">\n",
       "  <thead>\n",
       "    <tr style=\"text-align: right;\">\n",
       "      <th></th>\n",
       "      <th>tweet_id</th>\n",
       "      <th>airline_sentiment</th>\n",
       "      <th>airline_sentiment_confidence</th>\n",
       "      <th>negativereason</th>\n",
       "      <th>negativereason_confidence</th>\n",
       "      <th>airline</th>\n",
       "      <th>airline_sentiment_gold</th>\n",
       "      <th>name</th>\n",
       "      <th>negativereason_gold</th>\n",
       "      <th>retweet_count</th>\n",
       "      <th>...</th>\n",
       "      <th>tweet_coord</th>\n",
       "      <th>tweet_created</th>\n",
       "      <th>tweet_location</th>\n",
       "      <th>user_timezone</th>\n",
       "      <th>info1</th>\n",
       "      <th>info2</th>\n",
       "      <th>info3</th>\n",
       "      <th>info4</th>\n",
       "      <th>info5</th>\n",
       "      <th>info6</th>\n",
       "    </tr>\n",
       "  </thead>\n",
       "  <tbody>\n",
       "    <tr>\n",
       "      <th>0</th>\n",
       "      <td>5,70306133677761E+017</td>\n",
       "      <td>neutral</td>\n",
       "      <td>1.0000</td>\n",
       "      <td>NaN</td>\n",
       "      <td>NaN</td>\n",
       "      <td>Virgin America</td>\n",
       "      <td>NaN</td>\n",
       "      <td>cairdin</td>\n",
       "      <td>NaN</td>\n",
       "      <td>0</td>\n",
       "      <td>...</td>\n",
       "      <td>NaN</td>\n",
       "      <td>2015-02-24 11:35:52 -0800</td>\n",
       "      <td>NaN</td>\n",
       "      <td>Eastern Time (US &amp; Canada)</td>\n",
       "      <td>NaN</td>\n",
       "      <td>NaN</td>\n",
       "      <td>NaN</td>\n",
       "      <td>NaN</td>\n",
       "      <td>NaN</td>\n",
       "      <td>NaN</td>\n",
       "    </tr>\n",
       "    <tr>\n",
       "      <th>1</th>\n",
       "      <td>5,70301130888122E+017</td>\n",
       "      <td>positive</td>\n",
       "      <td>0.3486</td>\n",
       "      <td>NaN</td>\n",
       "      <td>0.0000</td>\n",
       "      <td>Virgin America</td>\n",
       "      <td>NaN</td>\n",
       "      <td>jnardino</td>\n",
       "      <td>NaN</td>\n",
       "      <td>0</td>\n",
       "      <td>...</td>\n",
       "      <td>NaN</td>\n",
       "      <td>2015-02-24 11:15:59 -0800</td>\n",
       "      <td>NaN</td>\n",
       "      <td>Pacific Time (US &amp; Canada)</td>\n",
       "      <td>NaN</td>\n",
       "      <td>NaN</td>\n",
       "      <td>NaN</td>\n",
       "      <td>NaN</td>\n",
       "      <td>NaN</td>\n",
       "      <td>NaN</td>\n",
       "    </tr>\n",
       "    <tr>\n",
       "      <th>2</th>\n",
       "      <td>5,70301083672814E+017</td>\n",
       "      <td>neutral</td>\n",
       "      <td>0.6837</td>\n",
       "      <td>NaN</td>\n",
       "      <td>NaN</td>\n",
       "      <td>Virgin America</td>\n",
       "      <td>NaN</td>\n",
       "      <td>yvonnalynn</td>\n",
       "      <td>NaN</td>\n",
       "      <td>0</td>\n",
       "      <td>...</td>\n",
       "      <td>NaN</td>\n",
       "      <td>2015-02-24 11:15:48 -0800</td>\n",
       "      <td>Lets Play</td>\n",
       "      <td>Central Time (US &amp; Canada)</td>\n",
       "      <td>NaN</td>\n",
       "      <td>NaN</td>\n",
       "      <td>NaN</td>\n",
       "      <td>NaN</td>\n",
       "      <td>NaN</td>\n",
       "      <td>NaN</td>\n",
       "    </tr>\n",
       "    <tr>\n",
       "      <th>3</th>\n",
       "      <td>5,70301031407624E+017</td>\n",
       "      <td>negative</td>\n",
       "      <td>1.0000</td>\n",
       "      <td>Bad Flight</td>\n",
       "      <td>0.7033</td>\n",
       "      <td>Virgin America</td>\n",
       "      <td>NaN</td>\n",
       "      <td>jnardino</td>\n",
       "      <td>NaN</td>\n",
       "      <td>0</td>\n",
       "      <td>...</td>\n",
       "      <td>NaN</td>\n",
       "      <td>2015-02-24 11:15:36 -0800</td>\n",
       "      <td>NaN</td>\n",
       "      <td>Pacific Time (US &amp; Canada)</td>\n",
       "      <td>NaN</td>\n",
       "      <td>NaN</td>\n",
       "      <td>NaN</td>\n",
       "      <td>NaN</td>\n",
       "      <td>NaN</td>\n",
       "      <td>NaN</td>\n",
       "    </tr>\n",
       "    <tr>\n",
       "      <th>4</th>\n",
       "      <td>5,70300817074463E+017</td>\n",
       "      <td>negative</td>\n",
       "      <td>1.0000</td>\n",
       "      <td>Can't Tell</td>\n",
       "      <td>1.0000</td>\n",
       "      <td>Virgin America</td>\n",
       "      <td>NaN</td>\n",
       "      <td>jnardino</td>\n",
       "      <td>NaN</td>\n",
       "      <td>0</td>\n",
       "      <td>...</td>\n",
       "      <td>NaN</td>\n",
       "      <td>2015-02-24 11:14:45 -0800</td>\n",
       "      <td>NaN</td>\n",
       "      <td>Pacific Time (US &amp; Canada)</td>\n",
       "      <td>NaN</td>\n",
       "      <td>NaN</td>\n",
       "      <td>NaN</td>\n",
       "      <td>NaN</td>\n",
       "      <td>NaN</td>\n",
       "      <td>NaN</td>\n",
       "    </tr>\n",
       "  </tbody>\n",
       "</table>\n",
       "<p>5 rows × 21 columns</p>\n",
       "</div>"
      ],
      "text/plain": [
       "                tweet_id airline_sentiment  airline_sentiment_confidence  \\\n",
       "0  5,70306133677761E+017           neutral                        1.0000   \n",
       "1  5,70301130888122E+017          positive                        0.3486   \n",
       "2  5,70301083672814E+017           neutral                        0.6837   \n",
       "3  5,70301031407624E+017          negative                        1.0000   \n",
       "4  5,70300817074463E+017          negative                        1.0000   \n",
       "\n",
       "  negativereason  negativereason_confidence         airline  \\\n",
       "0            NaN                        NaN  Virgin America   \n",
       "1            NaN                     0.0000  Virgin America   \n",
       "2            NaN                        NaN  Virgin America   \n",
       "3     Bad Flight                     0.7033  Virgin America   \n",
       "4     Can't Tell                     1.0000  Virgin America   \n",
       "\n",
       "  airline_sentiment_gold        name negativereason_gold  retweet_count  ...   \\\n",
       "0                    NaN     cairdin                 NaN              0  ...    \n",
       "1                    NaN    jnardino                 NaN              0  ...    \n",
       "2                    NaN  yvonnalynn                 NaN              0  ...    \n",
       "3                    NaN    jnardino                 NaN              0  ...    \n",
       "4                    NaN    jnardino                 NaN              0  ...    \n",
       "\n",
       "  tweet_coord              tweet_created tweet_location  \\\n",
       "0         NaN  2015-02-24 11:35:52 -0800            NaN   \n",
       "1         NaN  2015-02-24 11:15:59 -0800            NaN   \n",
       "2         NaN  2015-02-24 11:15:48 -0800      Lets Play   \n",
       "3         NaN  2015-02-24 11:15:36 -0800            NaN   \n",
       "4         NaN  2015-02-24 11:14:45 -0800            NaN   \n",
       "\n",
       "                user_timezone info1 info2 info3 info4 info5 info6  \n",
       "0  Eastern Time (US & Canada)   NaN   NaN   NaN   NaN   NaN   NaN  \n",
       "1  Pacific Time (US & Canada)   NaN   NaN   NaN   NaN   NaN   NaN  \n",
       "2  Central Time (US & Canada)   NaN   NaN   NaN   NaN   NaN   NaN  \n",
       "3  Pacific Time (US & Canada)   NaN   NaN   NaN   NaN   NaN   NaN  \n",
       "4  Pacific Time (US & Canada)   NaN   NaN   NaN   NaN   NaN   NaN  \n",
       "\n",
       "[5 rows x 21 columns]"
      ]
     },
     "execution_count": 3,
     "metadata": {},
     "output_type": "execute_result"
    }
   ],
   "source": [
    "tweetsDF.head()"
   ]
  },
  {
   "cell_type": "code",
   "execution_count": 196,
   "metadata": {},
   "outputs": [],
   "source": [
    "# tweetsDF.drop(labels=['tweet_id',\n",
    "#                       'name',\n",
    "#                       'retweet_count',\n",
    "#                       'tweet_coord',\n",
    "#                       'tweet_created',\n",
    "#                       'tweet_location', \n",
    "#                       'user_timezone',\n",
    "#                      'info1', \"info2\", 'info3', 'info4', 'info5', 'info6'], axis=1, inplace=True)"
   ]
  },
  {
   "cell_type": "markdown",
   "metadata": {},
   "source": [
    "## Distribuicao ao longo do tempo\n",
    "Vamos analisar como estao distribuidos os tweets ao longo do tempo. Primeiro, precisamos transformar os dados que estão no formato de uma string para um objeto datetime. Perceba que as datas possuem um formato especifico: \"yyyy-mm-dd hh:mm:ss -0800\". Sendo assim, isso será informado na formatação dos timestamps. "
   ]
  },
  {
   "cell_type": "code",
   "execution_count": 5,
   "metadata": {},
   "outputs": [
    {
     "data": {
      "text/plain": [
       "'2015-02-24 11:35:52 -0800'"
      ]
     },
     "execution_count": 5,
     "metadata": {},
     "output_type": "execute_result"
    }
   ],
   "source": [
    "d = tweetsDF[\"tweet_created\"].iloc[0]\n",
    "d"
   ]
  },
  {
   "cell_type": "code",
   "execution_count": 6,
   "metadata": {},
   "outputs": [],
   "source": [
    "import datetime"
   ]
  },
  {
   "cell_type": "code",
   "execution_count": 8,
   "metadata": {},
   "outputs": [],
   "source": [
    "# dateTimeObj = datetime.datetime.strptime(d, \"%Y-%m-%d %H:%M:%S -0800\")\n",
    "tweetsDF[\"tweet_created\"] = pd.to_datetime(tweetsDF[\"tweet_created\"],format=\"%Y-%m-%d %H:%M:%S -0800\",errors='coerce')\n",
    "tweetsDF['day-month'] = tweetsDF[\"tweet_created\"].dt.strftime(\"%d-%m\")"
   ]
  },
  {
   "cell_type": "markdown",
   "metadata": {},
   "source": [
    "Após transformar os dados, iremos agrupá-los por dia do mês. Veremos que os tweets foram postados de 16 a 23 de Fevereiro de 2018"
   ]
  },
  {
   "cell_type": "code",
   "execution_count": 9,
   "metadata": {},
   "outputs": [
    {
     "data": {
      "text/html": [
       "<div>\n",
       "<style scoped>\n",
       "    .dataframe tbody tr th:only-of-type {\n",
       "        vertical-align: middle;\n",
       "    }\n",
       "\n",
       "    .dataframe tbody tr th {\n",
       "        vertical-align: top;\n",
       "    }\n",
       "\n",
       "    .dataframe thead th {\n",
       "        text-align: right;\n",
       "    }\n",
       "</style>\n",
       "<table border=\"1\" class=\"dataframe\">\n",
       "  <thead>\n",
       "    <tr style=\"text-align: right;\">\n",
       "      <th></th>\n",
       "      <th>tweet_id</th>\n",
       "      <th>airline_sentiment</th>\n",
       "      <th>airline_sentiment_confidence</th>\n",
       "      <th>negativereason</th>\n",
       "      <th>negativereason_confidence</th>\n",
       "      <th>airline</th>\n",
       "      <th>airline_sentiment_gold</th>\n",
       "      <th>name</th>\n",
       "      <th>negativereason_gold</th>\n",
       "      <th>retweet_count</th>\n",
       "      <th>...</th>\n",
       "      <th>tweet_coord</th>\n",
       "      <th>tweet_created</th>\n",
       "      <th>tweet_location</th>\n",
       "      <th>user_timezone</th>\n",
       "      <th>info1</th>\n",
       "      <th>info2</th>\n",
       "      <th>info3</th>\n",
       "      <th>info4</th>\n",
       "      <th>info5</th>\n",
       "      <th>info6</th>\n",
       "    </tr>\n",
       "    <tr>\n",
       "      <th>day-month</th>\n",
       "      <th></th>\n",
       "      <th></th>\n",
       "      <th></th>\n",
       "      <th></th>\n",
       "      <th></th>\n",
       "      <th></th>\n",
       "      <th></th>\n",
       "      <th></th>\n",
       "      <th></th>\n",
       "      <th></th>\n",
       "      <th></th>\n",
       "      <th></th>\n",
       "      <th></th>\n",
       "      <th></th>\n",
       "      <th></th>\n",
       "      <th></th>\n",
       "      <th></th>\n",
       "      <th></th>\n",
       "      <th></th>\n",
       "      <th></th>\n",
       "      <th></th>\n",
       "    </tr>\n",
       "  </thead>\n",
       "  <tbody>\n",
       "    <tr>\n",
       "      <th>16-02</th>\n",
       "      <td>4</td>\n",
       "      <td>4</td>\n",
       "      <td>4</td>\n",
       "      <td>3</td>\n",
       "      <td>3</td>\n",
       "      <td>4</td>\n",
       "      <td>0</td>\n",
       "      <td>4</td>\n",
       "      <td>0</td>\n",
       "      <td>4</td>\n",
       "      <td>...</td>\n",
       "      <td>0</td>\n",
       "      <td>4</td>\n",
       "      <td>3</td>\n",
       "      <td>3</td>\n",
       "      <td>0</td>\n",
       "      <td>0</td>\n",
       "      <td>0</td>\n",
       "      <td>0</td>\n",
       "      <td>0</td>\n",
       "      <td>0</td>\n",
       "    </tr>\n",
       "    <tr>\n",
       "      <th>17-02</th>\n",
       "      <td>1354</td>\n",
       "      <td>1354</td>\n",
       "      <td>1354</td>\n",
       "      <td>805</td>\n",
       "      <td>950</td>\n",
       "      <td>1354</td>\n",
       "      <td>5</td>\n",
       "      <td>1354</td>\n",
       "      <td>4</td>\n",
       "      <td>1354</td>\n",
       "      <td>...</td>\n",
       "      <td>100</td>\n",
       "      <td>1354</td>\n",
       "      <td>950</td>\n",
       "      <td>921</td>\n",
       "      <td>0</td>\n",
       "      <td>0</td>\n",
       "      <td>0</td>\n",
       "      <td>0</td>\n",
       "      <td>0</td>\n",
       "      <td>0</td>\n",
       "    </tr>\n",
       "    <tr>\n",
       "      <th>18-02</th>\n",
       "      <td>1277</td>\n",
       "      <td>1277</td>\n",
       "      <td>1277</td>\n",
       "      <td>692</td>\n",
       "      <td>819</td>\n",
       "      <td>1277</td>\n",
       "      <td>1</td>\n",
       "      <td>1277</td>\n",
       "      <td>1</td>\n",
       "      <td>1277</td>\n",
       "      <td>...</td>\n",
       "      <td>88</td>\n",
       "      <td>1277</td>\n",
       "      <td>899</td>\n",
       "      <td>927</td>\n",
       "      <td>0</td>\n",
       "      <td>0</td>\n",
       "      <td>0</td>\n",
       "      <td>0</td>\n",
       "      <td>0</td>\n",
       "      <td>0</td>\n",
       "    </tr>\n",
       "    <tr>\n",
       "      <th>19-02</th>\n",
       "      <td>1319</td>\n",
       "      <td>1319</td>\n",
       "      <td>1319</td>\n",
       "      <td>719</td>\n",
       "      <td>844</td>\n",
       "      <td>1319</td>\n",
       "      <td>5</td>\n",
       "      <td>1319</td>\n",
       "      <td>3</td>\n",
       "      <td>1319</td>\n",
       "      <td>...</td>\n",
       "      <td>102</td>\n",
       "      <td>1319</td>\n",
       "      <td>864</td>\n",
       "      <td>884</td>\n",
       "      <td>0</td>\n",
       "      <td>0</td>\n",
       "      <td>0</td>\n",
       "      <td>0</td>\n",
       "      <td>0</td>\n",
       "      <td>0</td>\n",
       "    </tr>\n",
       "    <tr>\n",
       "      <th>20-02</th>\n",
       "      <td>1443</td>\n",
       "      <td>1443</td>\n",
       "      <td>1443</td>\n",
       "      <td>798</td>\n",
       "      <td>917</td>\n",
       "      <td>1443</td>\n",
       "      <td>5</td>\n",
       "      <td>1443</td>\n",
       "      <td>4</td>\n",
       "      <td>1443</td>\n",
       "      <td>...</td>\n",
       "      <td>99</td>\n",
       "      <td>1443</td>\n",
       "      <td>1057</td>\n",
       "      <td>986</td>\n",
       "      <td>0</td>\n",
       "      <td>0</td>\n",
       "      <td>0</td>\n",
       "      <td>0</td>\n",
       "      <td>0</td>\n",
       "      <td>0</td>\n",
       "    </tr>\n",
       "    <tr>\n",
       "      <th>21-02</th>\n",
       "      <td>1510</td>\n",
       "      <td>1510</td>\n",
       "      <td>1510</td>\n",
       "      <td>1018</td>\n",
       "      <td>1148</td>\n",
       "      <td>1510</td>\n",
       "      <td>6</td>\n",
       "      <td>1510</td>\n",
       "      <td>5</td>\n",
       "      <td>1510</td>\n",
       "      <td>...</td>\n",
       "      <td>113</td>\n",
       "      <td>1510</td>\n",
       "      <td>1037</td>\n",
       "      <td>1033</td>\n",
       "      <td>0</td>\n",
       "      <td>0</td>\n",
       "      <td>0</td>\n",
       "      <td>0</td>\n",
       "      <td>0</td>\n",
       "      <td>0</td>\n",
       "    </tr>\n",
       "    <tr>\n",
       "      <th>22-02</th>\n",
       "      <td>2956</td>\n",
       "      <td>2956</td>\n",
       "      <td>2956</td>\n",
       "      <td>2175</td>\n",
       "      <td>2396</td>\n",
       "      <td>2956</td>\n",
       "      <td>7</td>\n",
       "      <td>2956</td>\n",
       "      <td>6</td>\n",
       "      <td>2956</td>\n",
       "      <td>...</td>\n",
       "      <td>191</td>\n",
       "      <td>2956</td>\n",
       "      <td>1923</td>\n",
       "      <td>1896</td>\n",
       "      <td>0</td>\n",
       "      <td>0</td>\n",
       "      <td>0</td>\n",
       "      <td>0</td>\n",
       "      <td>0</td>\n",
       "      <td>0</td>\n",
       "    </tr>\n",
       "    <tr>\n",
       "      <th>23-02</th>\n",
       "      <td>2924</td>\n",
       "      <td>2924</td>\n",
       "      <td>2924</td>\n",
       "      <td>1846</td>\n",
       "      <td>2141</td>\n",
       "      <td>2924</td>\n",
       "      <td>6</td>\n",
       "      <td>2924</td>\n",
       "      <td>5</td>\n",
       "      <td>2924</td>\n",
       "      <td>...</td>\n",
       "      <td>204</td>\n",
       "      <td>2924</td>\n",
       "      <td>1945</td>\n",
       "      <td>1892</td>\n",
       "      <td>0</td>\n",
       "      <td>0</td>\n",
       "      <td>0</td>\n",
       "      <td>0</td>\n",
       "      <td>0</td>\n",
       "      <td>0</td>\n",
       "    </tr>\n",
       "    <tr>\n",
       "      <th>24-02</th>\n",
       "      <td>1290</td>\n",
       "      <td>1290</td>\n",
       "      <td>1290</td>\n",
       "      <td>751</td>\n",
       "      <td>889</td>\n",
       "      <td>1290</td>\n",
       "      <td>4</td>\n",
       "      <td>1290</td>\n",
       "      <td>3</td>\n",
       "      <td>1290</td>\n",
       "      <td>...</td>\n",
       "      <td>74</td>\n",
       "      <td>1290</td>\n",
       "      <td>819</td>\n",
       "      <td>888</td>\n",
       "      <td>1</td>\n",
       "      <td>0</td>\n",
       "      <td>0</td>\n",
       "      <td>0</td>\n",
       "      <td>0</td>\n",
       "      <td>0</td>\n",
       "    </tr>\n",
       "    <tr>\n",
       "      <th>NaT</th>\n",
       "      <td>563</td>\n",
       "      <td>563</td>\n",
       "      <td>563</td>\n",
       "      <td>371</td>\n",
       "      <td>415</td>\n",
       "      <td>563</td>\n",
       "      <td>1</td>\n",
       "      <td>563</td>\n",
       "      <td>1</td>\n",
       "      <td>563</td>\n",
       "      <td>...</td>\n",
       "      <td>562</td>\n",
       "      <td>0</td>\n",
       "      <td>520</td>\n",
       "      <td>415</td>\n",
       "      <td>397</td>\n",
       "      <td>39</td>\n",
       "      <td>8</td>\n",
       "      <td>4</td>\n",
       "      <td>3</td>\n",
       "      <td>1</td>\n",
       "    </tr>\n",
       "  </tbody>\n",
       "</table>\n",
       "<p>10 rows × 21 columns</p>\n",
       "</div>"
      ],
      "text/plain": [
       "           tweet_id  airline_sentiment  airline_sentiment_confidence  \\\n",
       "day-month                                                              \n",
       "16-02             4                  4                             4   \n",
       "17-02          1354               1354                          1354   \n",
       "18-02          1277               1277                          1277   \n",
       "19-02          1319               1319                          1319   \n",
       "20-02          1443               1443                          1443   \n",
       "21-02          1510               1510                          1510   \n",
       "22-02          2956               2956                          2956   \n",
       "23-02          2924               2924                          2924   \n",
       "24-02          1290               1290                          1290   \n",
       "NaT             563                563                           563   \n",
       "\n",
       "           negativereason  negativereason_confidence  airline  \\\n",
       "day-month                                                       \n",
       "16-02                   3                          3        4   \n",
       "17-02                 805                        950     1354   \n",
       "18-02                 692                        819     1277   \n",
       "19-02                 719                        844     1319   \n",
       "20-02                 798                        917     1443   \n",
       "21-02                1018                       1148     1510   \n",
       "22-02                2175                       2396     2956   \n",
       "23-02                1846                       2141     2924   \n",
       "24-02                 751                        889     1290   \n",
       "NaT                   371                        415      563   \n",
       "\n",
       "           airline_sentiment_gold  name  negativereason_gold  retweet_count  \\\n",
       "day-month                                                                     \n",
       "16-02                           0     4                    0              4   \n",
       "17-02                           5  1354                    4           1354   \n",
       "18-02                           1  1277                    1           1277   \n",
       "19-02                           5  1319                    3           1319   \n",
       "20-02                           5  1443                    4           1443   \n",
       "21-02                           6  1510                    5           1510   \n",
       "22-02                           7  2956                    6           2956   \n",
       "23-02                           6  2924                    5           2924   \n",
       "24-02                           4  1290                    3           1290   \n",
       "NaT                             1   563                    1            563   \n",
       "\n",
       "           ...    tweet_coord  tweet_created  tweet_location  user_timezone  \\\n",
       "day-month  ...                                                                \n",
       "16-02      ...              0              4               3              3   \n",
       "17-02      ...            100           1354             950            921   \n",
       "18-02      ...             88           1277             899            927   \n",
       "19-02      ...            102           1319             864            884   \n",
       "20-02      ...             99           1443            1057            986   \n",
       "21-02      ...            113           1510            1037           1033   \n",
       "22-02      ...            191           2956            1923           1896   \n",
       "23-02      ...            204           2924            1945           1892   \n",
       "24-02      ...             74           1290             819            888   \n",
       "NaT        ...            562              0             520            415   \n",
       "\n",
       "           info1  info2  info3  info4  info5  info6  \n",
       "day-month                                            \n",
       "16-02          0      0      0      0      0      0  \n",
       "17-02          0      0      0      0      0      0  \n",
       "18-02          0      0      0      0      0      0  \n",
       "19-02          0      0      0      0      0      0  \n",
       "20-02          0      0      0      0      0      0  \n",
       "21-02          0      0      0      0      0      0  \n",
       "22-02          0      0      0      0      0      0  \n",
       "23-02          0      0      0      0      0      0  \n",
       "24-02          1      0      0      0      0      0  \n",
       "NaT          397     39      8      4      3      1  \n",
       "\n",
       "[10 rows x 21 columns]"
      ]
     },
     "execution_count": 9,
     "metadata": {},
     "output_type": "execute_result"
    }
   ],
   "source": [
    "dfDate = tweetsDF.groupby(by='day-month')\n",
    "dateCounter = dfDate.count()\n",
    "dateCounter\n",
    "dateCounter.to_excel('training_frequency.xls')"
   ]
  },
  {
   "cell_type": "code",
   "execution_count": 10,
   "metadata": {},
   "outputs": [
    {
     "data": {
      "text/plain": [
       "array(['16-02', '17-02', '18-02', '19-02', '20-02', '21-02', '22-02',\n",
       "       '23-02', '24-02', 'NaT'], dtype=object)"
      ]
     },
     "execution_count": 10,
     "metadata": {},
     "output_type": "execute_result"
    }
   ],
   "source": [
    "labels = tweetsDF['day-month'].unique()\n",
    "labels.sort()\n",
    "labels"
   ]
  },
  {
   "cell_type": "code",
   "execution_count": 11,
   "metadata": {},
   "outputs": [
    {
     "data": {
      "image/png": "[encoded data removed]",
      "text/plain": [
       "<matplotlib.figure.Figure at 0x7f017c0d95c0>"
      ]
     },
     "metadata": {},
     "output_type": "display_data"
    }
   ],
   "source": [
    "_ = dateCounter.plot(x=labels,\n",
    "                 y=\"tweet_id\", \n",
    "                 figsize=(12,6),\n",
    "                title=\"Frequency of tweets per day\",\n",
    "                kind='bar',\n",
    "                legend=False)"
   ]
  },
  {
   "cell_type": "markdown",
   "metadata": {},
   "source": [
    "Nos dias 22 e 23 de Fevereiro a atividade no Twitter quase dobrou. Olhando no Google Notícias encontramos algumas manchetes que podem ter ocasionado esse aumento\n",
    "\n",
    "* [Machete 1](link)\n",
    "* [Machete 2](link)\n",
    "* [Machete 3](link)\n",
    "\n",
    "---\n",
    "Agora vamos olhar os dados ausentes. Vamos calcular a porcentage de dados não ausentes verificar como está a distribuição dos dados"
   ]
  },
  {
   "cell_type": "code",
   "execution_count": 12,
   "metadata": {},
   "outputs": [
    {
     "name": "stdout",
     "output_type": "stream",
     "text": [
      "Porcentagem de dados nao nulos\n"
     ]
    },
    {
     "data": {
      "text/plain": [
       "tweet_id                         0.000000\n",
       "airline_sentiment                0.000000\n",
       "airline_sentiment_confidence     0.000000\n",
       "negativereason                  37.308743\n",
       "negativereason_confidence       28.128415\n",
       "airline                          0.000000\n",
       "airline_sentiment_gold          99.726776\n",
       "name                             0.000000\n",
       "negativereason_gold             99.781421\n",
       "retweet_count                    0.000000\n",
       "text                             0.000000\n",
       "tweet_coord                     89.528689\n",
       "tweet_created                    3.845628\n",
       "tweet_location                  31.577869\n",
       "user_timezone                   32.752732\n",
       "info1                           97.281421\n",
       "info2                           99.733607\n",
       "info3                           99.945355\n",
       "info4                           99.972678\n",
       "info5                           99.979508\n",
       "info6                           99.993169\n",
       "day-month                        0.000000\n",
       "dtype: float64"
      ]
     },
     "execution_count": 12,
     "metadata": {},
     "output_type": "execute_result"
    }
   ],
   "source": [
    "print(\"Porcentagem de dados nao nulos\")\n",
    "(len(tweetsDF)-tweetsDF.count())/len(tweetsDF)*100"
   ]
  },
  {
   "cell_type": "markdown",
   "metadata": {},
   "source": [
    "Como as colunas 'airline_sentiment_gold' e 'negativereason_gold' estão praticamente inteiras com valores nulos, iremos deleta-las"
   ]
  },
  {
   "cell_type": "code",
   "execution_count": 13,
   "metadata": {},
   "outputs": [],
   "source": [
    "tweetsDF.drop(labels=['airline_sentiment_gold',\n",
    "                      'negativereason_gold'], axis=1,inplace=True)"
   ]
  },
  {
   "cell_type": "code",
   "execution_count": 14,
   "metadata": {},
   "outputs": [
    {
     "name": "stdout",
     "output_type": "stream",
     "text": [
      "<class 'pandas.core.frame.DataFrame'>\n",
      "RangeIndex: 14640 entries, 0 to 14639\n",
      "Data columns (total 20 columns):\n",
      "tweet_id                        14640 non-null object\n",
      "airline_sentiment               14640 non-null object\n",
      "airline_sentiment_confidence    14640 non-null float64\n",
      "negativereason                  9178 non-null object\n",
      "negativereason_confidence       10522 non-null float64\n",
      "airline                         14640 non-null object\n",
      "name                            14640 non-null object\n",
      "retweet_count                   14640 non-null int64\n",
      "text                            14640 non-null object\n",
      "tweet_coord                     1533 non-null object\n",
      "tweet_created                   14077 non-null datetime64[ns]\n",
      "tweet_location                  10017 non-null object\n",
      "user_timezone                   9845 non-null object\n",
      "info1                           398 non-null object\n",
      "info2                           39 non-null object\n",
      "info3                           8 non-null object\n",
      "info4                           4 non-null object\n",
      "info5                           3 non-null object\n",
      "info6                           1 non-null object\n",
      "day-month                       14640 non-null object\n",
      "dtypes: datetime64[ns](1), float64(2), int64(1), object(16)\n",
      "memory usage: 2.2+ MB\n"
     ]
    }
   ],
   "source": [
    "tweetsDF.info()"
   ]
  },
  {
   "cell_type": "markdown",
   "metadata": {},
   "source": [
    "Ainda assim existem algumas colunas com muito lixo, como a info1, info2 e assim por diante. Mais a frente, essas colunas serão excluídas do dataframe\n",
    "\n",
    "---\n",
    "\n",
    "Vamos preencher a coluna \"negativereason_confidence\" com dados da média"
   ]
  },
  {
   "cell_type": "code",
   "execution_count": 15,
   "metadata": {},
   "outputs": [
    {
     "name": "stderr",
     "output_type": "stream",
     "text": [
      "/home/victor/anaconda3/lib/python3.6/site-packages/sklearn/utils/deprecation.py:58: DeprecationWarning: Class Imputer is deprecated; Imputer was deprecated in version 0.20 and will be removed in 0.22. Import impute.SimpleImputer from sklearn instead.\n",
      "  warnings.warn(msg, category=DeprecationWarning)\n"
     ]
    }
   ],
   "source": [
    "from sklearn.preprocessing import Imputer\n",
    "imputer = Imputer()\n",
    "\n",
    "# transformed = imputer.fit_transform(tweetsDF[\"negativereason_confidence\"])\n",
    "negativeMean = tweetsDF[\"negativereason_confidence\"].mean()\n",
    "tweetsDF[\"negativereason_confidence\"].fillna(negativeMean, inplace=True)\n",
    "tweetsDF[\"negativereason\"].fillna(\"Can't Tell\", inplace=True)"
   ]
  },
  {
   "cell_type": "markdown",
   "metadata": {},
   "source": [
    "Como é possível observar, agora as colunas preenchidas possuem o total de 14640 campos não nulos, o que corresponde ao total de linhas no dataframe"
   ]
  },
  {
   "cell_type": "code",
   "execution_count": 16,
   "metadata": {},
   "outputs": [
    {
     "name": "stdout",
     "output_type": "stream",
     "text": [
      "<class 'pandas.core.frame.DataFrame'>\n",
      "RangeIndex: 14640 entries, 0 to 14639\n",
      "Data columns (total 20 columns):\n",
      "tweet_id                        14640 non-null object\n",
      "airline_sentiment               14640 non-null object\n",
      "airline_sentiment_confidence    14640 non-null float64\n",
      "negativereason                  14640 non-null object\n",
      "negativereason_confidence       14640 non-null float64\n",
      "airline                         14640 non-null object\n",
      "name                            14640 non-null object\n",
      "retweet_count                   14640 non-null int64\n",
      "text                            14640 non-null object\n",
      "tweet_coord                     1533 non-null object\n",
      "tweet_created                   14077 non-null datetime64[ns]\n",
      "tweet_location                  10017 non-null object\n",
      "user_timezone                   9845 non-null object\n",
      "info1                           398 non-null object\n",
      "info2                           39 non-null object\n",
      "info3                           8 non-null object\n",
      "info4                           4 non-null object\n",
      "info5                           3 non-null object\n",
      "info6                           1 non-null object\n",
      "day-month                       14640 non-null object\n",
      "dtypes: datetime64[ns](1), float64(2), int64(1), object(16)\n",
      "memory usage: 2.2+ MB\n"
     ]
    }
   ],
   "source": [
    "tweetsDF.info()"
   ]
  },
  {
   "cell_type": "markdown",
   "metadata": {},
   "source": [
    "Vamos observar a distribuição das classes positivas, negativas e neutras dos tweets"
   ]
  },
  {
   "cell_type": "code",
   "execution_count": 18,
   "metadata": {},
   "outputs": [
    {
     "data": {
      "text/plain": [
       "negative    9178\n",
       "neutral     3099\n",
       "positive    2363\n",
       "Name: airline_sentiment, dtype: int64"
      ]
     },
     "execution_count": 18,
     "metadata": {},
     "output_type": "execute_result"
    }
   ],
   "source": [
    "## Distribuição de sentimentos\n",
    "sentimentCounter = tweetsDF['airline_sentiment'].value_counts()\n",
    "sentimentCounter"
   ]
  },
  {
   "cell_type": "code",
   "execution_count": 19,
   "metadata": {},
   "outputs": [
    {
     "data": {
      "image/png": "[encoded data removed]",
      "text/plain": [
       "<matplotlib.figure.Figure at 0x7f014b053470>"
      ]
     },
     "metadata": {},
     "output_type": "display_data"
    }
   ],
   "source": [
    "Index = [1,2,3]\n",
    "_ = plt.bar(Index,sentimentCounter)\n",
    "_ = plt.xticks(Index,['negative','neutral','positive'],rotation=45)\n",
    "_ = plt.ylabel('Mood Count')\n",
    "_ = plt.xlabel('Mood')\n",
    "_ = plt.title('Count of Moods')"
   ]
  },
  {
   "cell_type": "markdown",
   "metadata": {},
   "source": [
    "## Distribuição de tweets por companhia"
   ]
  },
  {
   "cell_type": "markdown",
   "metadata": {},
   "source": [
    "O dataset contém a informação sobre qual companhia aérea o tweet está se referindo. Logo, vamos olhar a distribuição dos tweets separados por cia."
   ]
  },
  {
   "cell_type": "code",
   "execution_count": 23,
   "metadata": {},
   "outputs": [
    {
     "data": {
      "image/png": "[encoded data removed]",
      "text/plain": [
       "<matplotlib.figure.Figure at 0x7f014af23400>"
      ]
     },
     "metadata": {},
     "output_type": "display_data"
    }
   ],
   "source": [
    "_ = tweetsDF['airline'].value_counts().plot(kind='bar', figsize=(10,6))"
   ]
  },
  {
   "cell_type": "markdown",
   "metadata": {},
   "source": [
    "E como será que as classes dos tweets estão distibuídos para cada companhia? Vamos olhar para o gráfico que mostrará isso"
   ]
  },
  {
   "cell_type": "code",
   "execution_count": 24,
   "metadata": {},
   "outputs": [],
   "source": [
    "def plot_sub_sentiment(airline, tweet_df):\n",
    "    df = tweet_df[tweet_df['airline']==airline]\n",
    "    count = df['airline_sentiment'].value_counts()\n",
    "    index = [1,2,3]\n",
    "    plt.bar(index,count)\n",
    "    plt.xticks(index,['negative','neutral','positive'])\n",
    "    plt.ylabel('Frequencia')\n",
    "    plt.xlabel('Sentimento')\n",
    "    plt.title('Dist de sentimentos ' + airline)\n",
    "#     plt.ylim(0, len(tweet_df))\n",
    "    plt.ylim(0, 3000)"
   ]
  },
  {
   "cell_type": "code",
   "execution_count": 25,
   "metadata": {
    "slideshow": {
     "slide_type": "fragment"
    }
   },
   "outputs": [
    {
     "data": {
      "text/plain": [
       "<matplotlib.figure.Figure at 0x7f013d937c50>"
      ]
     },
     "execution_count": 25,
     "metadata": {},
     "output_type": "execute_result"
    },
    {
     "data": {
      "text/plain": [
       "<matplotlib.axes._subplots.AxesSubplot at 0x7f014af13a58>"
      ]
     },
     "execution_count": 25,
     "metadata": {},
     "output_type": "execute_result"
    },
    {
     "data": {
      "text/plain": [
       "<matplotlib.axes._subplots.AxesSubplot at 0x7f013d8e7fd0>"
      ]
     },
     "execution_count": 25,
     "metadata": {},
     "output_type": "execute_result"
    },
    {
     "data": {
      "text/plain": [
       "<matplotlib.axes._subplots.AxesSubplot at 0x7f013d8a9eb8>"
      ]
     },
     "execution_count": 25,
     "metadata": {},
     "output_type": "execute_result"
    },
    {
     "data": {
      "text/plain": [
       "<matplotlib.axes._subplots.AxesSubplot at 0x7f013d86bf60>"
      ]
     },
     "execution_count": 25,
     "metadata": {},
     "output_type": "execute_result"
    },
    {
     "data": {
      "text/plain": [
       "<matplotlib.axes._subplots.AxesSubplot at 0x7f013d846080>"
      ]
     },
     "execution_count": 25,
     "metadata": {},
     "output_type": "execute_result"
    },
    {
     "data": {
      "text/plain": [
       "<matplotlib.axes._subplots.AxesSubplot at 0x7f013d7e6e10>"
      ]
     },
     "execution_count": 25,
     "metadata": {},
     "output_type": "execute_result"
    },
    {
     "data": {
      "image/png": "[encoded data removed]",
      "text/plain": [
       "<matplotlib.figure.Figure at 0x7f013d937c50>"
      ]
     },
     "metadata": {},
     "output_type": "display_data"
    }
   ],
   "source": [
    "plt.figure(1,figsize=(12, 12))\n",
    "plt.subplot(231)\n",
    "plot_sub_sentiment('US Airways', tweetsDF)\n",
    "\n",
    "plt.subplot(232)\n",
    "plot_sub_sentiment('United', tweetsDF)\n",
    "\n",
    "plt.subplot(233)\n",
    "plot_sub_sentiment('American', tweetsDF)\n",
    "\n",
    "plt.subplot(234)\n",
    "plot_sub_sentiment('Southwest', tweetsDF)\n",
    "\n",
    "plt.subplot(235)\n",
    "plot_sub_sentiment('Delta', tweetsDF)\n",
    "\n",
    "plt.subplot(236)\n",
    "plot_sub_sentiment('Virgin America', tweetsDF)"
   ]
  },
  {
   "cell_type": "markdown",
   "metadata": {},
   "source": [
    "De acordo com o gráfico, a United Airlines é que mais tem tweets a seu respeito. Isso parece ser razoável já que a United Airlines é maior copmanhia no mundo em termos de destinos possíveis. "
   ]
  },
  {
   "cell_type": "markdown",
   "metadata": {},
   "source": [
    "---\n",
    "## Motivos de reclamação\n",
    "O dataset também traz qual o motivo da reclamação. Vamos analisar a distribuição desses motivos"
   ]
  },
  {
   "cell_type": "code",
   "execution_count": 26,
   "metadata": {},
   "outputs": [],
   "source": [
    "nrCounter = dict(tweetsDF['negativereason'].value_counts(sort=False))\n"
   ]
  },
  {
   "cell_type": "code",
   "execution_count": 32,
   "metadata": {},
   "outputs": [],
   "source": [
    "def NR_Count(Airline, tweet_df):\n",
    "    if Airline == 'All':\n",
    "        df = tweet_df\n",
    "    else:\n",
    "        df = tweet_df[tweet_df['airline'] == Airline]\n",
    "    \n",
    "    count = dict(df['negativereason'].value_counts())\n",
    "    Unique_reason = list(tweet_df['negativereason'].unique())\n",
    "    Unique_reason = [x for x in Unique_reason if str(x) != 'nan']\n",
    "    Reason_frame = pd.DataFrame({'Reasons':Unique_reason})\n",
    "    Reason_frame['count'] = Reason_frame['Reasons'].apply(lambda x: count[x])\n",
    "    return Reason_frame\n",
    "\n",
    "def plot_reason(Airline, tweet, ylim):\n",
    "    df = NR_Count(Airline, tweet)\n",
    "    count = df['count']\n",
    "    Index = range(1,(len(df)+1))\n",
    "    plt.bar(Index,count,)\n",
    "#     plt.xticks(Index,df['Reasons'],rotation=45,)\n",
    "    plt.xticks(Index,legends.values(),rotation=45,)\n",
    "    plt.ylabel('Count')\n",
    "    plt.xlabel('Reason')\n",
    "    plt.ylim((0,ylim))\n",
    "    plt.title('Count of Reasons for '+Airline)"
   ]
  },
  {
   "cell_type": "code",
   "execution_count": 33,
   "metadata": {},
   "outputs": [
    {
     "data": {
      "text/plain": [
       "{'Bad Flight': 'BF',\n",
       " \"Can't Tell\": 'CT',\n",
       " 'Cancelled Flight': 'CF',\n",
       " 'Customer Service Issue': 'CSI',\n",
       " 'Damaged Luggage': 'DL',\n",
       " 'Flight Attendant Complaints': 'FAC',\n",
       " 'Flight Booking Problems': 'FBP',\n",
       " 'Late Flight': 'LF',\n",
       " 'Lost Luggage': 'LL',\n",
       " 'longlines': 'L'}"
      ]
     },
     "execution_count": 33,
     "metadata": {},
     "output_type": "execute_result"
    }
   ],
   "source": [
    "Unique_reason = list(tweetsDF['negativereason'].unique())\n",
    "Unique_reason = [x for x in Unique_reason if str(x) != 'nan']\n",
    "\n",
    "legends = dict()\n",
    "for line in Unique_reason:\n",
    "    words = line.split()\n",
    "    letters = [word[0].upper() for word in words]\n",
    "    legends[line] = \"\".join(letters)\n",
    "legends"
   ]
  },
  {
   "cell_type": "code",
   "execution_count": 34,
   "metadata": {},
   "outputs": [
    {
     "data": {
      "image/png": "[encoded data removed]",
      "text/plain": [
       "<matplotlib.figure.Figure at 0x7f013d6c0278>"
      ]
     },
     "metadata": {},
     "output_type": "display_data"
    }
   ],
   "source": [
    "plot_reason('All', tweetsDF, ylim=7500)\n"
   ]
  },
  {
   "cell_type": "markdown",
   "metadata": {},
   "source": [
    "Reclamacoes sobre o servico ao cliente sao as mais frequentes, seguidas de atraso de voo. É interessante notar que mais de 1000 reclamacoes estao em categorias diversas."
   ]
  },
  {
   "cell_type": "markdown",
   "metadata": {},
   "source": [
    "## Motivos de reclamacoes por companhia\n",
    "Vamos analisar as reclamacoes por cada companhia"
   ]
  },
  {
   "cell_type": "code",
   "execution_count": 35,
   "metadata": {},
   "outputs": [
    {
     "data": {
      "image/png": "[encoded data removed]",
      "text/plain": [
       "<matplotlib.figure.Figure at 0x7f013d7aa7f0>"
      ]
     },
     "metadata": {},
     "output_type": "display_data"
    }
   ],
   "source": [
    "companies = list(tweetsDF[\"airline\"].unique())\n",
    "subPlot = 231\n",
    "_ = plt.figure(1,figsize=(12, 12))\n",
    "\n",
    "for c in companies:\n",
    "    _ = plt.subplots_adjust(top=0.8)\n",
    "    _ = plt.subplot(subPlot)\n",
    "    plot_reason(c, tweetsDF, 1700)\n",
    "    \n",
    "    subPlot += 1"
   ]
  },
  {
   "cell_type": "markdown",
   "metadata": {},
   "source": [
    "Em todas as companhias, a maior reclamacao é a do serviço ao cliente. Agora vamos plotar um wordcloud para ver quais as palavras mais frequentemente usadas. "
   ]
  },
  {
   "cell_type": "code",
   "execution_count": 36,
   "metadata": {},
   "outputs": [],
   "source": [
    "from wordcloud import WordCloud, STOPWORDS"
   ]
  },
  {
   "cell_type": "code",
   "execution_count": 37,
   "metadata": {},
   "outputs": [],
   "source": [
    "df = tweetsDF[tweetsDF[\"airline_sentiment\"]=='negative']\n",
    "words = ' '.join(df[\"text\"])\n",
    "cleanedWord = \" \".join([w for w in words.split()\n",
    "                            if \"http\" not in w\n",
    "                            and not w.startswith(\"@\")\n",
    "                            and w != \"RT\"\n",
    "                       ])"
   ]
  },
  {
   "cell_type": "code",
   "execution_count": 38,
   "metadata": {},
   "outputs": [],
   "source": [
    "wordcloud = WordCloud(stopwords=STOPWORDS,\n",
    "                      background_color='black',\n",
    "                      width=3000,\n",
    "                      height=2500\n",
    "                     ).generate(cleanedWord)"
   ]
  },
  {
   "cell_type": "code",
   "execution_count": 39,
   "metadata": {},
   "outputs": [
    {
     "data": {
      "text/plain": [
       "<matplotlib.figure.Figure at 0x7f013d1d6c18>"
      ]
     },
     "execution_count": 39,
     "metadata": {},
     "output_type": "execute_result"
    },
    {
     "data": {
      "text/plain": [
       "<matplotlib.image.AxesImage at 0x7f013cd89b70>"
      ]
     },
     "execution_count": 39,
     "metadata": {},
     "output_type": "execute_result"
    },
    {
     "data": {
      "text/plain": [
       "(-0.5, 2999.5, 2499.5, -0.5)"
      ]
     },
     "execution_count": 39,
     "metadata": {},
     "output_type": "execute_result"
    },
    {
     "data": {
      "image/png": "[encoded data removed]",
      "text/plain": [
       "<matplotlib.figure.Figure at 0x7f013d1d6c18>"
      ]
     },
     "metadata": {},
     "output_type": "display_data"
    }
   ],
   "source": [
    "plt.figure(1,figsize=(12, 12))\n",
    "plt.imshow(wordcloud)\n",
    "plt.axis('off')\n",
    "plt.show()"
   ]
  },
  {
   "cell_type": "markdown",
   "metadata": {},
   "source": [
    "Como as reclamacoes mais frequentes estao relacionadas ao servico ao consumidor e as palavras mais frequentes são \"plane\", \"bag\", \"flight\", podemos propor que a qualidade das aeronaves nao satisfaz os consumidores. Podem haver problemas com as bagagens de mao (espaço insuficiente, ou incovenientes). Além disso, a oferta de voos tambem pode ser um motivo de reclamacao"
   ]
  },
  {
   "cell_type": "markdown",
   "metadata": {},
   "source": [
    "## Extração de características\n",
    "Características basedas [neste](https://www.microsoft.com/en-us/research/wp-content/uploads/2015/03/main.pdf) trabalho serão utilizadas. Vale ressaltar que o autor extraiu 34 características. Nem todas elas serão extraídas aqui."
   ]
  },
  {
   "cell_type": "code",
   "execution_count": 40,
   "metadata": {},
   "outputs": [],
   "source": [
    "# feature 3\n",
    "def countPositiveCapitalized(tokens):\n",
    "    \"\"\"\n",
    "    Calculates the number of positive words that are capitalized\n",
    "    \n",
    "    @params:\n",
    "        tokens: The non stopwords list\n",
    "    \"\"\"\n",
    "    counter = 0\n",
    "    tokensSplit = tokens.split()\n",
    "    for t in tokensSplit:\n",
    "        if t[0].isupper() == True and t in positiveList:\n",
    "            counter += 1\n",
    "    return counter\n",
    "\n",
    "# feature 4\n",
    "def countNegativeCapitalized(tokens):\n",
    "    \"\"\"\n",
    "    Calculates the number of negative words that are capitalized\n",
    "    \n",
    "    @params:\n",
    "        tokens: The non stopwords list\n",
    "    \"\"\"\n",
    "    counter = 0\n",
    "    tokensSplit = tokens.split()\n",
    "    for t in tokensSplit:\n",
    "        if t[0].isupper() == True and t in negativeList:\n",
    "            counter += 1\n",
    "    return counter\n",
    "\n",
    "# feature 5\n",
    "def hasCapitalized(tokens):\n",
    "    \"\"\"\n",
    "    Check if the tweet has capitalized words\n",
    "    \n",
    "    @params:\n",
    "        tokens: The non stopwords list\n",
    "    \"\"\"\n",
    "    counter = 0\n",
    "    tokensSplit = tokens.split()\n",
    "    for t in tokensSplit:\n",
    "        if t[0].isupper() == True:\n",
    "            return 1\n",
    "    return 0\n",
    "\n",
    "# feature 6\n",
    "def countHashtags(tokens):\n",
    "    \"\"\"\n",
    "    Count the number of words that starts with # (hashtags)\n",
    "    \n",
    "    @params:\n",
    "        tokens: The non stopwords list\n",
    "    \"\"\"\n",
    "    counter = 0\n",
    "    for t in tokens:\n",
    "        if t.startswith(\"#\"):\n",
    "            counter += 1\n",
    "    return counter\n",
    "\n",
    "# feature 7\n",
    "def countPositive(tokens):\n",
    "    \"\"\"\n",
    "    Calculates the number of words that are in the positive words list\n",
    "    \n",
    "    @params:\n",
    "        tokens: The non stopwords list\n",
    "    \"\"\"\n",
    "    counter = 0\n",
    "    tokensSplit = tokens.split()\n",
    "    for t in tokensSplit:\n",
    "        if t.lower() in positiveList:\n",
    "            counter += 1\n",
    "    return counter\n",
    "\n",
    "# feature 8\n",
    "def countNegative(tokens):\n",
    "    \"\"\"\n",
    "    Calculates the number of words that are in the negative words list\n",
    "    \n",
    "    @params:\n",
    "        tokens: The non stopwords list\n",
    "    \"\"\"\n",
    "    counter = 0\n",
    "    tokensSplit = tokens.split()\n",
    "    for t in tokensSplit:\n",
    "        if t.lower() in negativeList:\n",
    "            counter += 1\n",
    "    return counter\n",
    "\n",
    "# feature 9\n",
    "def countNeutral(tokens):\n",
    "    \"\"\"\n",
    "    Calculates the number of words that are in the neutral words list\n",
    "    \n",
    "    @params:\n",
    "        tokens: The non stopwords list\n",
    "    \"\"\"\n",
    "    counter = 0\n",
    "    tokensSplit = tokens.split()\n",
    "    for t in tokensSplit:\n",
    "        if t.lower() not in negativeList and t.lower() not in positiveList:\n",
    "            counter += 1\n",
    "    return counter\n",
    "\n",
    "# feature 10\n",
    "def countCapitalizedWords(tokens):\n",
    "    \"\"\"\n",
    "    Calculates the number of words that are capitalized\n",
    "    \n",
    "    @params:\n",
    "        tokens: The non stopwords list\n",
    "    \"\"\"\n",
    "    counter = 0\n",
    "    tokensSplit = tokens.split()\n",
    "    for t in tokensSplit:\n",
    "        if t.isupper() and len(t) > 1:\n",
    "            counter += 1\n",
    "    return counter\n",
    "\n",
    "# feature 11\n",
    "def countSpecialCharacters(tokens):\n",
    "    \"\"\"\n",
    "    Calculates the number of occurrencies of all special character\n",
    "    \n",
    "    @params:\n",
    "        tokens: The non stopwords list\n",
    "    \"\"\"\n",
    "    counter = 0\n",
    "    tokensSplit = tokens.split()\n",
    "    for t in tokensSplit:\n",
    "        if not re.match(\"^[a-zA-Z0-9_]*$\", t):\n",
    "            counter += 1\n",
    "    return counter\n",
    "\n",
    "def countSpecificSpecialCharacter(specialCharacter, tokens):\n",
    "    \"\"\"\n",
    "    Calculates the number of occurrencies of a specific special character\n",
    "    \n",
    "    @params:\n",
    "        tokens: The non stopwords list\n",
    "    \"\"\"\n",
    "    counter = 0\n",
    "    tokensSplit = tokens.split()\n",
    "    for t in tokensSplit:\n",
    "        if t == specialCharacter:\n",
    "            counter += 1\n",
    "    return counter"
   ]
  },
  {
   "cell_type": "code",
   "execution_count": 41,
   "metadata": {},
   "outputs": [],
   "source": [
    "def fixSpelling(tokens):\n",
    "    import hunspell\n",
    "    spellchecker = hunspell.HunSpell('/usr/share/hunspell/en_US.dic',\n",
    "                                 '/usr/share/hunspell/en_US.aff')\n",
    "                           \n",
    "    words = tokens.split()              \n",
    "    newWords = \"\"#list()\n",
    "    for w in words:\n",
    "        if not spellchecker.spell(w):\n",
    "#             newWords.append(spellchecker.suggest(w)[0])\n",
    "            try:\n",
    "                newWords += \" \" + spellchecker.suggest(w)[0]\n",
    "            except(IndexError):\n",
    "                newWords += \" \" + \"\"\n",
    "        else:\n",
    "#             newWords.append(w)\n",
    "            newWords += \" \" + w\n",
    "    return newWords\n",
    "        \n",
    "def stemming(tokens):\n",
    "    '''\n",
    "    Apply stemming to each token\n",
    "    '''\n",
    "    \n",
    "    stemmer = SnowballStemmer(\"english\")  \n",
    "    stemmed = [stemmer.stem(w) for w in tokens.split()]\n",
    "    return stemmed\n",
    "   "
   ]
  },
  {
   "cell_type": "markdown",
   "metadata": {},
   "source": [
    "## Preprocessamento\n",
    "\n",
    "Agora iremos preparar os tweets para servirem de input aos classificadores"
   ]
  },
  {
   "cell_type": "code",
   "execution_count": 44,
   "metadata": {},
   "outputs": [],
   "source": [
    "import re\n",
    "import nltk\n",
    "from nltk.corpus import stopwords"
   ]
  },
  {
   "cell_type": "code",
   "execution_count": 45,
   "metadata": {},
   "outputs": [
    {
     "data": {
      "text/html": [
       "<div>\n",
       "<style scoped>\n",
       "    .dataframe tbody tr th:only-of-type {\n",
       "        vertical-align: middle;\n",
       "    }\n",
       "\n",
       "    .dataframe tbody tr th {\n",
       "        vertical-align: top;\n",
       "    }\n",
       "\n",
       "    .dataframe thead th {\n",
       "        text-align: right;\n",
       "    }\n",
       "</style>\n",
       "<table border=\"1\" class=\"dataframe\">\n",
       "  <thead>\n",
       "    <tr style=\"text-align: right;\">\n",
       "      <th></th>\n",
       "      <th>tweet_id</th>\n",
       "      <th>airline_sentiment</th>\n",
       "      <th>airline_sentiment_confidence</th>\n",
       "      <th>negativereason</th>\n",
       "      <th>negativereason_confidence</th>\n",
       "      <th>airline</th>\n",
       "      <th>name</th>\n",
       "      <th>retweet_count</th>\n",
       "      <th>text</th>\n",
       "      <th>tweet_coord</th>\n",
       "      <th>tweet_created</th>\n",
       "      <th>tweet_location</th>\n",
       "      <th>user_timezone</th>\n",
       "      <th>info1</th>\n",
       "      <th>info2</th>\n",
       "      <th>info3</th>\n",
       "      <th>info4</th>\n",
       "      <th>info5</th>\n",
       "      <th>info6</th>\n",
       "      <th>day-month</th>\n",
       "    </tr>\n",
       "  </thead>\n",
       "  <tbody>\n",
       "    <tr>\n",
       "      <th>0</th>\n",
       "      <td>5,70306133677761E+017</td>\n",
       "      <td>neutral</td>\n",
       "      <td>1.0000</td>\n",
       "      <td>Can't Tell</td>\n",
       "      <td>13.160358</td>\n",
       "      <td>Virgin America</td>\n",
       "      <td>cairdin</td>\n",
       "      <td>0</td>\n",
       "      <td>@VirginAmerica What @dhepburn said.</td>\n",
       "      <td>NaN</td>\n",
       "      <td>2015-02-24 11:35:52</td>\n",
       "      <td>NaN</td>\n",
       "      <td>Eastern Time (US &amp; Canada)</td>\n",
       "      <td>NaN</td>\n",
       "      <td>NaN</td>\n",
       "      <td>NaN</td>\n",
       "      <td>NaN</td>\n",
       "      <td>NaN</td>\n",
       "      <td>NaN</td>\n",
       "      <td>24-02</td>\n",
       "    </tr>\n",
       "    <tr>\n",
       "      <th>1</th>\n",
       "      <td>5,70301130888122E+017</td>\n",
       "      <td>positive</td>\n",
       "      <td>0.3486</td>\n",
       "      <td>Can't Tell</td>\n",
       "      <td>0.000000</td>\n",
       "      <td>Virgin America</td>\n",
       "      <td>jnardino</td>\n",
       "      <td>0</td>\n",
       "      <td>@VirginAmerica plus you've added commercials t...</td>\n",
       "      <td>NaN</td>\n",
       "      <td>2015-02-24 11:15:59</td>\n",
       "      <td>NaN</td>\n",
       "      <td>Pacific Time (US &amp; Canada)</td>\n",
       "      <td>NaN</td>\n",
       "      <td>NaN</td>\n",
       "      <td>NaN</td>\n",
       "      <td>NaN</td>\n",
       "      <td>NaN</td>\n",
       "      <td>NaN</td>\n",
       "      <td>24-02</td>\n",
       "    </tr>\n",
       "    <tr>\n",
       "      <th>2</th>\n",
       "      <td>5,70301083672814E+017</td>\n",
       "      <td>neutral</td>\n",
       "      <td>0.6837</td>\n",
       "      <td>Can't Tell</td>\n",
       "      <td>13.160358</td>\n",
       "      <td>Virgin America</td>\n",
       "      <td>yvonnalynn</td>\n",
       "      <td>0</td>\n",
       "      <td>@VirginAmerica I didn't today... Must mean I n...</td>\n",
       "      <td>NaN</td>\n",
       "      <td>2015-02-24 11:15:48</td>\n",
       "      <td>Lets Play</td>\n",
       "      <td>Central Time (US &amp; Canada)</td>\n",
       "      <td>NaN</td>\n",
       "      <td>NaN</td>\n",
       "      <td>NaN</td>\n",
       "      <td>NaN</td>\n",
       "      <td>NaN</td>\n",
       "      <td>NaN</td>\n",
       "      <td>24-02</td>\n",
       "    </tr>\n",
       "    <tr>\n",
       "      <th>3</th>\n",
       "      <td>5,70301031407624E+017</td>\n",
       "      <td>negative</td>\n",
       "      <td>1.0000</td>\n",
       "      <td>Bad Flight</td>\n",
       "      <td>0.703300</td>\n",
       "      <td>Virgin America</td>\n",
       "      <td>jnardino</td>\n",
       "      <td>0</td>\n",
       "      <td>@VirginAmerica it's really aggressive to blast...</td>\n",
       "      <td>NaN</td>\n",
       "      <td>2015-02-24 11:15:36</td>\n",
       "      <td>NaN</td>\n",
       "      <td>Pacific Time (US &amp; Canada)</td>\n",
       "      <td>NaN</td>\n",
       "      <td>NaN</td>\n",
       "      <td>NaN</td>\n",
       "      <td>NaN</td>\n",
       "      <td>NaN</td>\n",
       "      <td>NaN</td>\n",
       "      <td>24-02</td>\n",
       "    </tr>\n",
       "    <tr>\n",
       "      <th>4</th>\n",
       "      <td>5,70300817074463E+017</td>\n",
       "      <td>negative</td>\n",
       "      <td>1.0000</td>\n",
       "      <td>Can't Tell</td>\n",
       "      <td>1.000000</td>\n",
       "      <td>Virgin America</td>\n",
       "      <td>jnardino</td>\n",
       "      <td>0</td>\n",
       "      <td>@VirginAmerica and it's a really big bad thing...</td>\n",
       "      <td>NaN</td>\n",
       "      <td>2015-02-24 11:14:45</td>\n",
       "      <td>NaN</td>\n",
       "      <td>Pacific Time (US &amp; Canada)</td>\n",
       "      <td>NaN</td>\n",
       "      <td>NaN</td>\n",
       "      <td>NaN</td>\n",
       "      <td>NaN</td>\n",
       "      <td>NaN</td>\n",
       "      <td>NaN</td>\n",
       "      <td>24-02</td>\n",
       "    </tr>\n",
       "  </tbody>\n",
       "</table>\n",
       "</div>"
      ],
      "text/plain": [
       "                tweet_id airline_sentiment  airline_sentiment_confidence  \\\n",
       "0  5,70306133677761E+017           neutral                        1.0000   \n",
       "1  5,70301130888122E+017          positive                        0.3486   \n",
       "2  5,70301083672814E+017           neutral                        0.6837   \n",
       "3  5,70301031407624E+017          negative                        1.0000   \n",
       "4  5,70300817074463E+017          negative                        1.0000   \n",
       "\n",
       "  negativereason  negativereason_confidence         airline        name  \\\n",
       "0     Can't Tell                  13.160358  Virgin America     cairdin   \n",
       "1     Can't Tell                   0.000000  Virgin America    jnardino   \n",
       "2     Can't Tell                  13.160358  Virgin America  yvonnalynn   \n",
       "3     Bad Flight                   0.703300  Virgin America    jnardino   \n",
       "4     Can't Tell                   1.000000  Virgin America    jnardino   \n",
       "\n",
       "   retweet_count                                               text  \\\n",
       "0              0                @VirginAmerica What @dhepburn said.   \n",
       "1              0  @VirginAmerica plus you've added commercials t...   \n",
       "2              0  @VirginAmerica I didn't today... Must mean I n...   \n",
       "3              0  @VirginAmerica it's really aggressive to blast...   \n",
       "4              0  @VirginAmerica and it's a really big bad thing...   \n",
       "\n",
       "  tweet_coord       tweet_created tweet_location               user_timezone  \\\n",
       "0         NaN 2015-02-24 11:35:52            NaN  Eastern Time (US & Canada)   \n",
       "1         NaN 2015-02-24 11:15:59            NaN  Pacific Time (US & Canada)   \n",
       "2         NaN 2015-02-24 11:15:48      Lets Play  Central Time (US & Canada)   \n",
       "3         NaN 2015-02-24 11:15:36            NaN  Pacific Time (US & Canada)   \n",
       "4         NaN 2015-02-24 11:14:45            NaN  Pacific Time (US & Canada)   \n",
       "\n",
       "  info1 info2 info3 info4 info5 info6 day-month  \n",
       "0   NaN   NaN   NaN   NaN   NaN   NaN     24-02  \n",
       "1   NaN   NaN   NaN   NaN   NaN   NaN     24-02  \n",
       "2   NaN   NaN   NaN   NaN   NaN   NaN     24-02  \n",
       "3   NaN   NaN   NaN   NaN   NaN   NaN     24-02  \n",
       "4   NaN   NaN   NaN   NaN   NaN   NaN     24-02  "
      ]
     },
     "execution_count": 45,
     "metadata": {},
     "output_type": "execute_result"
    }
   ],
   "source": [
    "tweetsDF.head()"
   ]
  },
  {
   "cell_type": "code",
   "execution_count": 46,
   "metadata": {},
   "outputs": [],
   "source": [
    "def tweet2words(raw_tweet):\n",
    "    \"\"\"\n",
    "    Split the tweet string into words list and remove stopwords\n",
    "        \n",
    "    @params:\n",
    "        raw_tweet: the tweet string collectd\n",
    "    \"\"\"\n",
    "    callout_regex = \"@[A-Za-z0-9_]+\"\n",
    "    #Remove mencoes a perfis\n",
    "    letters_only = re.sub(callout_regex, \" \", raw_tweet)\n",
    "    letters_only = re.sub(\"[^a-zA-Z]\", \" \", letters_only)\n",
    "    \n",
    "    words = letters_only.lower().split()                             \n",
    "    words = letters_only.split()                             \n",
    "    stops = set(stopwords.words(\"english\"))                  \n",
    "    meaningful_words = [w for w in words if not w in stops] \n",
    "    return( \" \".join( meaningful_words )) \n",
    "\n",
    "\n",
    "def clean_tweet_length(raw_tweet):\n",
    "    \"\"\"\n",
    "    Calculates the number of non stopwords\n",
    "    \n",
    "    @params:\n",
    "        raw_tweet: the tweet string collectd\n",
    "    \"\"\"\n",
    "    letters_only = re.sub(\"[^a-zA-Z]\", \" \",raw_tweet) \n",
    "    words = letters_only.lower().split()                             \n",
    "    stops = set(stopwords.words(\"english\"))                  \n",
    "    meaningful_words = [w for w in words if not w in stops] \n",
    "    return(len(meaningful_words)) "
   ]
  },
  {
   "cell_type": "code",
   "execution_count": 47,
   "metadata": {},
   "outputs": [],
   "source": [
    "tweetsDF['sentiment'] = tweetsDF['airline_sentiment'].apply(lambda x: 0 if x==\"negative\" else 1)\n",
    "\n",
    "tweetsDF['tweet2words'] = tweetsDF['text'].apply(tweet2words)\n",
    "\n",
    "tweetsDF[\"num_capitalized\"] = tweetsDF[\"tweet2words\"].apply(countCapitalizedWords)\n",
    "\n",
    "tweetsDF['tweet_length'] = tweetsDF['text'].apply(clean_tweet_length)\n",
    "\n",
    "tweetsDF[\"num_negative_words\"] = tweetsDF[\"tweet2words\"].apply(countNegative)"
   ]
  },
  {
   "cell_type": "code",
   "execution_count": 48,
   "metadata": {},
   "outputs": [],
   "source": [
    "# Number of occurrencies\n",
    "tweetsDF[\"num_positive_words\"] = tweetsDF['text'].apply(countPositive)\n",
    "tweetsDF[\"num_negative_words\"] = tweetsDF['text'].apply(countNegative)\n",
    "tweetsDF[\"num_neutral_words\"] = tweetsDF['text'].apply(countNeutral)\n",
    "\n",
    "# Capitalized words\n",
    "tweetsDF[\"has_capitalized\"] = tweetsDF['text'].apply(hasCapitalized)\n",
    "tweetsDF[\"num_capitalised_positive_words\"] = tweetsDF['text'].apply(countPositiveCapitalized)\n",
    "tweetsDF[\"num_capitalised_negative_words\"] = tweetsDF['text'].apply(countNegativeCapitalized)\n",
    "\n",
    "\n",
    "tweetsDF[\"num_hashtags\"] = tweetsDF['text'].apply(countHashtags)\n",
    "tweetsDF[\"num_special_character\"] = tweetsDF['text'].apply(countSpecialCharacters)"
   ]
  },
  {
   "cell_type": "code",
   "execution_count": 75,
   "metadata": {},
   "outputs": [],
   "source": [
    "tweetsDF['correctedText'] =  tweetsDF['tweet2words'].apply(fixSpelling)\n"
   ]
  },
  {
   "cell_type": "code",
   "execution_count": 76,
   "metadata": {},
   "outputs": [
    {
     "data": {
      "text/html": [
       "<div>\n",
       "<style scoped>\n",
       "    .dataframe tbody tr th:only-of-type {\n",
       "        vertical-align: middle;\n",
       "    }\n",
       "\n",
       "    .dataframe tbody tr th {\n",
       "        vertical-align: top;\n",
       "    }\n",
       "\n",
       "    .dataframe thead th {\n",
       "        text-align: right;\n",
       "    }\n",
       "</style>\n",
       "<table border=\"1\" class=\"dataframe\">\n",
       "  <thead>\n",
       "    <tr style=\"text-align: right;\">\n",
       "      <th></th>\n",
       "      <th>airline_sentiment</th>\n",
       "      <th>airline_sentiment_confidence</th>\n",
       "      <th>negativereason</th>\n",
       "      <th>negativereason_confidence</th>\n",
       "      <th>airline</th>\n",
       "      <th>text</th>\n",
       "      <th>sentiment</th>\n",
       "      <th>tweet2words</th>\n",
       "      <th>num_capitalized</th>\n",
       "      <th>tweet_length</th>\n",
       "      <th>num_negative_words</th>\n",
       "      <th>num_positive_words</th>\n",
       "      <th>num_neutral_words</th>\n",
       "      <th>has_capitalized</th>\n",
       "      <th>num_capitalised_positive_words</th>\n",
       "      <th>num_capitalised_negative_words</th>\n",
       "      <th>num_hashtags</th>\n",
       "      <th>num_special_character</th>\n",
       "      <th>correctedText</th>\n",
       "    </tr>\n",
       "  </thead>\n",
       "  <tbody>\n",
       "    <tr>\n",
       "      <th>0</th>\n",
       "      <td>neutral</td>\n",
       "      <td>1.0000</td>\n",
       "      <td>Can't Tell</td>\n",
       "      <td>13.160358</td>\n",
       "      <td>Virgin America</td>\n",
       "      <td>@VirginAmerica What @dhepburn said.</td>\n",
       "      <td>1</td>\n",
       "      <td>What said</td>\n",
       "      <td>0</td>\n",
       "      <td>3</td>\n",
       "      <td>0</td>\n",
       "      <td>0</td>\n",
       "      <td>4</td>\n",
       "      <td>1</td>\n",
       "      <td>0</td>\n",
       "      <td>0</td>\n",
       "      <td>0</td>\n",
       "      <td>3</td>\n",
       "      <td>What said</td>\n",
       "    </tr>\n",
       "    <tr>\n",
       "      <th>1</th>\n",
       "      <td>positive</td>\n",
       "      <td>0.3486</td>\n",
       "      <td>Can't Tell</td>\n",
       "      <td>0.000000</td>\n",
       "      <td>Virgin America</td>\n",
       "      <td>@VirginAmerica plus you've added commercials t...</td>\n",
       "      <td>1</td>\n",
       "      <td>plus added commercials experience tacky</td>\n",
       "      <td>0</td>\n",
       "      <td>6</td>\n",
       "      <td>0</td>\n",
       "      <td>0</td>\n",
       "      <td>9</td>\n",
       "      <td>0</td>\n",
       "      <td>0</td>\n",
       "      <td>0</td>\n",
       "      <td>0</td>\n",
       "      <td>4</td>\n",
       "      <td>plus added commercials experience tacky</td>\n",
       "    </tr>\n",
       "    <tr>\n",
       "      <th>2</th>\n",
       "      <td>neutral</td>\n",
       "      <td>0.6837</td>\n",
       "      <td>Can't Tell</td>\n",
       "      <td>13.160358</td>\n",
       "      <td>Virgin America</td>\n",
       "      <td>@VirginAmerica I didn't today... Must mean I n...</td>\n",
       "      <td>1</td>\n",
       "      <td>I today Must mean I need take another trip</td>\n",
       "      <td>0</td>\n",
       "      <td>8</td>\n",
       "      <td>0</td>\n",
       "      <td>0</td>\n",
       "      <td>12</td>\n",
       "      <td>1</td>\n",
       "      <td>0</td>\n",
       "      <td>0</td>\n",
       "      <td>0</td>\n",
       "      <td>4</td>\n",
       "      <td>I today Must mean I need take another trip</td>\n",
       "    </tr>\n",
       "    <tr>\n",
       "      <th>3</th>\n",
       "      <td>negative</td>\n",
       "      <td>1.0000</td>\n",
       "      <td>Bad Flight</td>\n",
       "      <td>0.703300</td>\n",
       "      <td>Virgin America</td>\n",
       "      <td>@VirginAmerica it's really aggressive to blast...</td>\n",
       "      <td>0</td>\n",
       "      <td>really aggressive blast obnoxious entertainmen...</td>\n",
       "      <td>0</td>\n",
       "      <td>11</td>\n",
       "      <td>2</td>\n",
       "      <td>0</td>\n",
       "      <td>15</td>\n",
       "      <td>0</td>\n",
       "      <td>0</td>\n",
       "      <td>0</td>\n",
       "      <td>0</td>\n",
       "      <td>5</td>\n",
       "      <td>really aggressive blast obnoxious entertainme...</td>\n",
       "    </tr>\n",
       "    <tr>\n",
       "      <th>4</th>\n",
       "      <td>negative</td>\n",
       "      <td>1.0000</td>\n",
       "      <td>Can't Tell</td>\n",
       "      <td>1.000000</td>\n",
       "      <td>Virgin America</td>\n",
       "      <td>@VirginAmerica and it's a really big bad thing...</td>\n",
       "      <td>0</td>\n",
       "      <td>really big bad thing</td>\n",
       "      <td>0</td>\n",
       "      <td>5</td>\n",
       "      <td>1</td>\n",
       "      <td>0</td>\n",
       "      <td>9</td>\n",
       "      <td>0</td>\n",
       "      <td>0</td>\n",
       "      <td>0</td>\n",
       "      <td>0</td>\n",
       "      <td>2</td>\n",
       "      <td>really big bad thing</td>\n",
       "    </tr>\n",
       "  </tbody>\n",
       "</table>\n",
       "</div>"
      ],
      "text/plain": [
       "  airline_sentiment  airline_sentiment_confidence negativereason  \\\n",
       "0           neutral                        1.0000     Can't Tell   \n",
       "1          positive                        0.3486     Can't Tell   \n",
       "2           neutral                        0.6837     Can't Tell   \n",
       "3          negative                        1.0000     Bad Flight   \n",
       "4          negative                        1.0000     Can't Tell   \n",
       "\n",
       "   negativereason_confidence         airline  \\\n",
       "0                  13.160358  Virgin America   \n",
       "1                   0.000000  Virgin America   \n",
       "2                  13.160358  Virgin America   \n",
       "3                   0.703300  Virgin America   \n",
       "4                   1.000000  Virgin America   \n",
       "\n",
       "                                                text  sentiment  \\\n",
       "0                @VirginAmerica What @dhepburn said.          1   \n",
       "1  @VirginAmerica plus you've added commercials t...          1   \n",
       "2  @VirginAmerica I didn't today... Must mean I n...          1   \n",
       "3  @VirginAmerica it's really aggressive to blast...          0   \n",
       "4  @VirginAmerica and it's a really big bad thing...          0   \n",
       "\n",
       "                                         tweet2words  num_capitalized  \\\n",
       "0                                          What said                0   \n",
       "1            plus added commercials experience tacky                0   \n",
       "2         I today Must mean I need take another trip                0   \n",
       "3  really aggressive blast obnoxious entertainmen...                0   \n",
       "4                               really big bad thing                0   \n",
       "\n",
       "   tweet_length  num_negative_words  num_positive_words  num_neutral_words  \\\n",
       "0             3                   0                   0                  4   \n",
       "1             6                   0                   0                  9   \n",
       "2             8                   0                   0                 12   \n",
       "3            11                   2                   0                 15   \n",
       "4             5                   1                   0                  9   \n",
       "\n",
       "   has_capitalized  num_capitalised_positive_words  \\\n",
       "0                1                               0   \n",
       "1                0                               0   \n",
       "2                1                               0   \n",
       "3                0                               0   \n",
       "4                0                               0   \n",
       "\n",
       "   num_capitalised_negative_words  num_hashtags  num_special_character  \\\n",
       "0                               0             0                      3   \n",
       "1                               0             0                      4   \n",
       "2                               0             0                      4   \n",
       "3                               0             0                      5   \n",
       "4                               0             0                      2   \n",
       "\n",
       "                                       correctedText  \n",
       "0                                          What said  \n",
       "1            plus added commercials experience tacky  \n",
       "2         I today Must mean I need take another trip  \n",
       "3   really aggressive blast obnoxious entertainme...  \n",
       "4                               really big bad thing  "
      ]
     },
     "execution_count": 76,
     "metadata": {},
     "output_type": "execute_result"
    }
   ],
   "source": [
    "tweetsDF.head()"
   ]
  },
  {
   "cell_type": "markdown",
   "metadata": {},
   "source": [
    "Agora vamos salvar o arquivo que servirá de input para o treino dos algoritmos"
   ]
  },
  {
   "cell_type": "code",
   "execution_count": 77,
   "metadata": {},
   "outputs": [],
   "source": [
    "tweetsDF.to_csv('preprocessed2.csv')"
   ]
  },
  {
   "cell_type": "markdown",
   "metadata": {},
   "source": [
    "## Tweets coletados\n",
    "Foram coletados tweets diretamente do Twitter contendo menções aos perfis das companhias"
   ]
  },
  {
   "cell_type": "code",
   "execution_count": 49,
   "metadata": {},
   "outputs": [],
   "source": [
    "from os import listdir\n",
    "from os.path import isfile, join\n",
    "\n",
    "tweetsPath = '02_prediction_tweets/'\n",
    "onlyfiles = [f for f in listdir(tweetsPath) if isfile(join(tweetsPath, f))]"
   ]
  },
  {
   "cell_type": "code",
   "execution_count": 50,
   "metadata": {},
   "outputs": [
    {
     "name": "stderr",
     "output_type": "stream",
     "text": [
      "b'Skipping line 1044: expected 14 fields, saw 15\\nSkipping line 2542: expected 14 fields, saw 15\\nSkipping line 2687: expected 14 fields, saw 16\\nSkipping line 3856: expected 14 fields, saw 15\\nSkipping line 5267: expected 14 fields, saw 16\\nSkipping line 5268: expected 14 fields, saw 18\\nSkipping line 6082: expected 14 fields, saw 15\\nSkipping line 11608: expected 14 fields, saw 15\\n'\n",
      "b'Skipping line 796: expected 14 fields, saw 15\\nSkipping line 2374: expected 14 fields, saw 15\\n'\n"
     ]
    }
   ],
   "source": [
    "dfList = list()\n",
    "for file in onlyfiles:\n",
    "    tweetsDF = pd.read_csv(tweetsPath + file, error_bad_lines= False)\n",
    "    \n",
    "    dfList.append(tweetsDF)"
   ]
  },
  {
   "cell_type": "code",
   "execution_count": 51,
   "metadata": {},
   "outputs": [
    {
     "name": "stdout",
     "output_type": "stream",
     "text": [
      "<class 'pandas.core.frame.DataFrame'>\n",
      "Int64Index: 33684 entries, 0 to 5369\n",
      "Data columns (total 19 columns):\n",
      "Unnamed: 14            0 non-null float64\n",
      "Unnamed: 15            1 non-null object\n",
      "Unnamed: 16            1 non-null object\n",
      "col1                   5866 non-null object\n",
      "col2                   107 non-null object\n",
      "col3                   19 non-null object\n",
      "date                   33682 non-null object\n",
      "favorites              33684 non-null object\n",
      "geological_location    566 non-null object\n",
      "hashtags               14719 non-null object\n",
      "mentions               23510 non-null object\n",
      "permalink              33594 non-null object\n",
      "retweets               33683 non-null object\n",
      "text                   33684 non-null object\n",
      "tweet_id               30464 non-null object\n",
      "user_handle            33681 non-null object\n",
      "username               33683 non-null object\n",
      "year-month-day         33419 non-null datetime64[ns]\n",
      "month-year             33684 non-null object\n",
      "dtypes: datetime64[ns](1), float64(1), object(17)\n",
      "memory usage: 5.1+ MB\n"
     ]
    }
   ],
   "source": [
    "finalDF = pd.concat(dfList, axis=0)\n",
    "dateTimeObj = datetime.datetime.strptime(d, \"%Y-%m-%d %H:%M:%S -0800\")\n",
    "finalDF[\"year-month-day\"] = pd.to_datetime(finalDF['date'],\n",
    "                                           format=\"%Y-%m-%d %H:%M\", \n",
    "                                           errors='coerce')\n",
    "finalDF['month-year'] = finalDF[\"year-month-day\"].dt.strftime(\"%m-%Y\")\n",
    "finalDF.info()"
   ]
  },
  {
   "cell_type": "code",
   "execution_count": 52,
   "metadata": {},
   "outputs": [
    {
     "data": {
      "text/html": [
       "<div>\n",
       "<style scoped>\n",
       "    .dataframe tbody tr th:only-of-type {\n",
       "        vertical-align: middle;\n",
       "    }\n",
       "\n",
       "    .dataframe tbody tr th {\n",
       "        vertical-align: top;\n",
       "    }\n",
       "\n",
       "    .dataframe thead th {\n",
       "        text-align: right;\n",
       "    }\n",
       "</style>\n",
       "<table border=\"1\" class=\"dataframe\">\n",
       "  <thead>\n",
       "    <tr style=\"text-align: right;\">\n",
       "      <th></th>\n",
       "      <th>Unnamed: 14</th>\n",
       "      <th>Unnamed: 15</th>\n",
       "      <th>Unnamed: 16</th>\n",
       "      <th>col1</th>\n",
       "      <th>col2</th>\n",
       "      <th>col3</th>\n",
       "      <th>date</th>\n",
       "      <th>favorites</th>\n",
       "      <th>geological_location</th>\n",
       "      <th>hashtags</th>\n",
       "      <th>mentions</th>\n",
       "      <th>permalink</th>\n",
       "      <th>retweets</th>\n",
       "      <th>text</th>\n",
       "      <th>tweet_id</th>\n",
       "      <th>user_handle</th>\n",
       "      <th>username</th>\n",
       "      <th>year-month-day</th>\n",
       "      <th>month-year</th>\n",
       "    </tr>\n",
       "  </thead>\n",
       "  <tbody>\n",
       "    <tr>\n",
       "      <th>0</th>\n",
       "      <td>NaN</td>\n",
       "      <td>NaN</td>\n",
       "      <td>NaN</td>\n",
       "      <td>NaN</td>\n",
       "      <td>NaN</td>\n",
       "      <td>NaN</td>\n",
       "      <td>2018-08-06 19:48</td>\n",
       "      <td>17</td>\n",
       "      <td>NaN</td>\n",
       "      <td>NaN</td>\n",
       "      <td>@AmericanAir</td>\n",
       "      <td>https://twitter.com/SecretFlying/status/102660...</td>\n",
       "      <td>7</td>\n",
       "      <td>Chicago to Houston, Texas (&amp; vice versa) for o...</td>\n",
       "      <td>1,02660088000989E+018</td>\n",
       "      <td>SecretFlying</td>\n",
       "      <td>Secret Flying</td>\n",
       "      <td>2018-08-06 19:48:00</td>\n",
       "      <td>08-2018</td>\n",
       "    </tr>\n",
       "    <tr>\n",
       "      <th>1</th>\n",
       "      <td>NaN</td>\n",
       "      <td>NaN</td>\n",
       "      <td>NaN</td>\n",
       "      <td>NaN</td>\n",
       "      <td>NaN</td>\n",
       "      <td>NaN</td>\n",
       "      <td>2018-08-06 19:29</td>\n",
       "      <td>13</td>\n",
       "      <td>NaN</td>\n",
       "      <td>#CLT #HVN</td>\n",
       "      <td>@AmericanAir @FlyTweed</td>\n",
       "      <td>https://twitter.com/NewHavenED/status/10265962...</td>\n",
       "      <td>8</td>\n",
       "      <td>We are very excited to see new commercial air ...</td>\n",
       "      <td>1,0265962359297E+018</td>\n",
       "      <td>NewHavenED</td>\n",
       "      <td>NH Economic Dev</td>\n",
       "      <td>2018-08-06 19:29:00</td>\n",
       "      <td>08-2018</td>\n",
       "    </tr>\n",
       "  </tbody>\n",
       "</table>\n",
       "</div>"
      ],
      "text/plain": [
       "   Unnamed: 14 Unnamed: 15 Unnamed: 16 col1 col2 col3              date  \\\n",
       "0          NaN         NaN         NaN  NaN  NaN  NaN  2018-08-06 19:48   \n",
       "1          NaN         NaN         NaN  NaN  NaN  NaN  2018-08-06 19:29   \n",
       "\n",
       "  favorites geological_location   hashtags                mentions  \\\n",
       "0        17                 NaN        NaN            @AmericanAir   \n",
       "1        13                 NaN  #CLT #HVN  @AmericanAir @FlyTweed   \n",
       "\n",
       "                                           permalink retweets  \\\n",
       "0  https://twitter.com/SecretFlying/status/102660...        7   \n",
       "1  https://twitter.com/NewHavenED/status/10265962...        8   \n",
       "\n",
       "                                                text               tweet_id  \\\n",
       "0  Chicago to Houston, Texas (& vice versa) for o...  1,02660088000989E+018   \n",
       "1  We are very excited to see new commercial air ...   1,0265962359297E+018   \n",
       "\n",
       "    user_handle         username      year-month-day month-year  \n",
       "0  SecretFlying    Secret Flying 2018-08-06 19:48:00    08-2018  \n",
       "1    NewHavenED  NH Economic Dev 2018-08-06 19:29:00    08-2018  "
      ]
     },
     "execution_count": 52,
     "metadata": {},
     "output_type": "execute_result"
    }
   ],
   "source": [
    "finalDF.head(2)"
   ]
  },
  {
   "cell_type": "code",
   "execution_count": 53,
   "metadata": {},
   "outputs": [],
   "source": [
    "monthTweets = finalDF.groupby(by=\"month-year\")\n",
    "dateCounter = monthTweets.count()\n",
    "dateCounter.to_excel(\"tweets_time.xls\")"
   ]
  },
  {
   "cell_type": "markdown",
   "metadata": {},
   "source": [
    "Vamos analisar a distribuição dos tweets ao long do tempo"
   ]
  },
  {
   "cell_type": "code",
   "execution_count": 54,
   "metadata": {},
   "outputs": [
    {
     "data": {
      "text/plain": [
       "array(['01-2018', '02-2018', '03-2018', '04-2018', '05-2018', '06-2017',\n",
       "       '06-2018', '07-2017', '07-2018', '08-2017', '08-2018', '09-2017',\n",
       "       '10-2017', '11-2017', '12-2017', 'NaT'], dtype=object)"
      ]
     },
     "execution_count": 54,
     "metadata": {},
     "output_type": "execute_result"
    },
    {
     "data": {
      "image/png": "[encoded data removed]",
      "text/plain": [
       "<matplotlib.figure.Figure at 0x7f0139f857b8>"
      ]
     },
     "metadata": {},
     "output_type": "display_data"
    }
   ],
   "source": [
    "labels = finalDF['month-year'].unique()\n",
    "labels.sort()\n",
    "labels\n",
    "_ = dateCounter.plot(x=labels,\n",
    "                 y=\"text\", \n",
    "                 figsize=(12,6),\n",
    "                title=\"Frequency of tweets per day\",\n",
    "                kind='bar',\n",
    "                legend=False)"
   ]
  },
  {
   "cell_type": "code",
   "execution_count": null,
   "metadata": {},
   "outputs": [],
   "source": []
  }
 ],
 "metadata": {
  "kernelspec": {
   "display_name": "Python 3",
   "language": "python",
   "name": "python3"
  },
  "language_info": {
   "codemirror_mode": {
    "name": "ipython",
    "version": 3
   },
   "file_extension": ".py",
   "mimetype": "text/x-python",
   "name": "python",
   "nbconvert_exporter": "python",
   "pygments_lexer": "ipython3",
   "version": "3.6.4"
  }
 },
 "nbformat": 4,
 "nbformat_minor": 2
}
