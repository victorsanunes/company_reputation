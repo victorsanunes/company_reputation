{
 "cells": [
  {
   "cell_type": "code",
   "execution_count": 55,
   "metadata": {},
   "outputs": [],
   "source": [
    "import pandas as pd\n",
    "import re\n",
    "from unicodedata import normalize"
   ]
  },
  {
   "cell_type": "code",
   "execution_count": 48,
   "metadata": {},
   "outputs": [],
   "source": [
    "base_path = \"raw_tweets/\"\n",
    "query = \"#lula\"\n",
    "tweets_df = pd.read_csv(base_path+query+\".csv\", header=None, sep=\",\")"
   ]
  },
  {
   "cell_type": "code",
   "execution_count": 49,
   "metadata": {},
   "outputs": [],
   "source": [
    "def bytes2str(b):\n",
    "    return eval(b)\n",
    "\n",
    "def decodeString(txt):\n",
    "    return txt.decode('utf-8')\n",
    "\n",
    "def fixTweet(txt):\n",
    "    txt = bytes2str(txt)\n",
    "    txt = decodeString(txt)\n",
    "    return remover_acentos(txt)\n",
    "\n",
    "def remover_acentos(txt):\n",
    "    return normalize('NFKD', txt).encode('ASCII','ignore').decode('ASCII')"
   ]
  },
  {
   "cell_type": "code",
   "execution_count": 50,
   "metadata": {},
   "outputs": [],
   "source": [
    "tweets_df[1] = tweets_df[1].apply(fixTweet)"
   ]
  },
  {
   "cell_type": "code",
   "execution_count": 51,
   "metadata": {},
   "outputs": [
    {
     "data": {
      "text/html": [
       "<div>\n",
       "<style scoped>\n",
       "    .dataframe tbody tr th:only-of-type {\n",
       "        vertical-align: middle;\n",
       "    }\n",
       "\n",
       "    .dataframe tbody tr th {\n",
       "        vertical-align: top;\n",
       "    }\n",
       "\n",
       "    .dataframe thead th {\n",
       "        text-align: right;\n",
       "    }\n",
       "</style>\n",
       "<table border=\"1\" class=\"dataframe\">\n",
       "  <thead>\n",
       "    <tr style=\"text-align: right;\">\n",
       "      <th></th>\n",
       "      <th>0</th>\n",
       "      <th>1</th>\n",
       "    </tr>\n",
       "  </thead>\n",
       "  <tbody>\n",
       "    <tr>\n",
       "      <th>0</th>\n",
       "      <td>2018-05-24 18:26:29</td>\n",
       "      <td>RT @FalatuThiago: A L G U E M    M E    D A   ...</td>\n",
       "    </tr>\n",
       "    <tr>\n",
       "      <th>1</th>\n",
       "      <td>2018-05-24 18:26:28</td>\n",
       "      <td>RT @Rubro_Negrah: U L T I M A M E N T E \\nM I ...</td>\n",
       "    </tr>\n",
       "    <tr>\n",
       "      <th>2</th>\n",
       "      <td>2018-05-24 18:25:20</td>\n",
       "      <td>RT @5Hilycc: E aquele ditado ne...\\n\\n   M U L...</td>\n",
       "    </tr>\n",
       "    <tr>\n",
       "      <th>3</th>\n",
       "      <td>2018-05-24 18:25:13</td>\n",
       "      <td>A   R E V O L U C A O   E   N O I A https://t....</td>\n",
       "    </tr>\n",
       "    <tr>\n",
       "      <th>4</th>\n",
       "      <td>2018-05-24 18:24:11</td>\n",
       "      <td>A L G U E M    M E    D A   U M    T I R O ?</td>\n",
       "    </tr>\n",
       "  </tbody>\n",
       "</table>\n",
       "</div>"
      ],
      "text/plain": [
       "                     0                                                  1\n",
       "0  2018-05-24 18:26:29  RT @FalatuThiago: A L G U E M    M E    D A   ...\n",
       "1  2018-05-24 18:26:28  RT @Rubro_Negrah: U L T I M A M E N T E \\nM I ...\n",
       "2  2018-05-24 18:25:20  RT @5Hilycc: E aquele ditado ne...\\n\\n   M U L...\n",
       "3  2018-05-24 18:25:13  A   R E V O L U C A O   E   N O I A https://t....\n",
       "4  2018-05-24 18:24:11       A L G U E M    M E    D A   U M    T I R O ?"
      ]
     },
     "execution_count": 51,
     "metadata": {},
     "output_type": "execute_result"
    }
   ],
   "source": [
    "tweets_df.head()"
   ]
  },
  {
   "cell_type": "code",
   "execution_count": 53,
   "metadata": {},
   "outputs": [],
   "source": [
    "tweets_df.to_csv(\"decoded_tweets/\"+query+\"_decoded.csv\", sep=',', mode='a')"
   ]
  },
  {
   "cell_type": "code",
   "execution_count": 54,
   "metadata": {},
   "outputs": [],
   "source": [
    "s = \"A       B\""
   ]
  },
  {
   "cell_type": "code",
   "execution_count": 56,
   "metadata": {},
   "outputs": [],
   "source": [
    "r = re.compile(r\"^\\s+\", re.MULTILINE)"
   ]
  },
  {
   "cell_type": "code",
   "execution_count": 59,
   "metadata": {},
   "outputs": [
    {
     "data": {
      "text/plain": [
       "'A       B'"
      ]
     },
     "execution_count": 59,
     "metadata": {},
     "output_type": "execute_result"
    }
   ],
   "source": [
    "r.sub(\"\", s) # \"a\\nb\\nc\"\n"
   ]
  },
  {
   "cell_type": "code",
   "execution_count": null,
   "metadata": {},
   "outputs": [],
   "source": [
    "re."
   ]
  }
 ],
 "metadata": {
  "kernelspec": {
   "display_name": "Python 3",
   "language": "python",
   "name": "python3"
  },
  "language_info": {
   "codemirror_mode": {
    "name": "ipython",
    "version": 3
   },
   "file_extension": ".py",
   "mimetype": "text/x-python",
   "name": "python",
   "nbconvert_exporter": "python",
   "pygments_lexer": "ipython3",
   "version": "3.6.4"
  }
 },
 "nbformat": 4,
 "nbformat_minor": 2
}
